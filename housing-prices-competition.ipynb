{
 "cells": [
  {
   "cell_type": "markdown",
   "id": "5b0b21a0",
   "metadata": {
    "papermill": {
     "duration": 0.009135,
     "end_time": "2025-01-01T16:37:05.352506",
     "exception": false,
     "start_time": "2025-01-01T16:37:05.343371",
     "status": "completed"
    },
    "tags": []
   },
   "source": [
    "# Kaggle Handle- tahfimjuwel"
   ]
  },
  {
   "cell_type": "code",
   "execution_count": 1,
   "id": "92cf52b2",
   "metadata": {
    "_cell_guid": "b1076dfc-b9ad-4769-8c92-a6c4dae69d19",
    "_uuid": "8f2839f25d086af736a60e9eeb907d3b93b6e0e5",
    "execution": {
     "iopub.execute_input": "2025-01-01T16:37:05.370567Z",
     "iopub.status.busy": "2025-01-01T16:37:05.370261Z",
     "iopub.status.idle": "2025-01-01T16:37:07.807928Z",
     "shell.execute_reply": "2025-01-01T16:37:07.807201Z"
    },
    "papermill": {
     "duration": 2.448429,
     "end_time": "2025-01-01T16:37:07.809422",
     "exception": false,
     "start_time": "2025-01-01T16:37:05.360993",
     "status": "completed"
    },
    "tags": []
   },
   "outputs": [],
   "source": [
    "import pandas as pd    \n",
    "import matplotlib.pyplot as plt\n",
    "import seaborn as sns\n",
    "from sklearn.model_selection import train_test_split\n",
    "from sklearn.linear_model import LinearRegression\n",
    "from sklearn.metrics import mean_absolute_error, mean_squared_error, r2_score\n",
    "import numpy as np\n",
    "from sklearn.preprocessing import StandardScaler\n",
    "from sklearn.preprocessing import LabelEncoder\n",
    "from sklearn.ensemble import RandomForestRegressor\n",
    "from sklearn.neighbors import KNeighborsRegressor\n",
    "import datetime as dt\n",
    "from scipy.stats import mstats\n",
    "from sklearn.preprocessing import PolynomialFeatures\n",
    "from sklearn.model_selection import cross_val_score\n",
    "from sklearn.linear_model import Lasso, Ridge, ElasticNet"
   ]
  },
  {
   "cell_type": "code",
   "execution_count": 2,
   "id": "5ac0df20",
   "metadata": {
    "execution": {
     "iopub.execute_input": "2025-01-01T16:37:07.827154Z",
     "iopub.status.busy": "2025-01-01T16:37:07.826773Z",
     "iopub.status.idle": "2025-01-01T16:37:07.892867Z",
     "shell.execute_reply": "2025-01-01T16:37:07.891976Z"
    },
    "papermill": {
     "duration": 0.076371,
     "end_time": "2025-01-01T16:37:07.894353",
     "exception": false,
     "start_time": "2025-01-01T16:37:07.817982",
     "status": "completed"
    },
    "tags": []
   },
   "outputs": [
    {
     "data": {
      "text/html": [
       "<div>\n",
       "<style scoped>\n",
       "    .dataframe tbody tr th:only-of-type {\n",
       "        vertical-align: middle;\n",
       "    }\n",
       "\n",
       "    .dataframe tbody tr th {\n",
       "        vertical-align: top;\n",
       "    }\n",
       "\n",
       "    .dataframe thead th {\n",
       "        text-align: right;\n",
       "    }\n",
       "</style>\n",
       "<table border=\"1\" class=\"dataframe\">\n",
       "  <thead>\n",
       "    <tr style=\"text-align: right;\">\n",
       "      <th></th>\n",
       "      <th>Id</th>\n",
       "      <th>MSSubClass</th>\n",
       "      <th>MSZoning</th>\n",
       "      <th>LotFrontage</th>\n",
       "      <th>LotArea</th>\n",
       "      <th>Street</th>\n",
       "      <th>Alley</th>\n",
       "      <th>LotShape</th>\n",
       "      <th>LandContour</th>\n",
       "      <th>Utilities</th>\n",
       "      <th>...</th>\n",
       "      <th>PoolArea</th>\n",
       "      <th>PoolQC</th>\n",
       "      <th>Fence</th>\n",
       "      <th>MiscFeature</th>\n",
       "      <th>MiscVal</th>\n",
       "      <th>MoSold</th>\n",
       "      <th>YrSold</th>\n",
       "      <th>SaleType</th>\n",
       "      <th>SaleCondition</th>\n",
       "      <th>SalePrice</th>\n",
       "    </tr>\n",
       "  </thead>\n",
       "  <tbody>\n",
       "    <tr>\n",
       "      <th>0</th>\n",
       "      <td>1</td>\n",
       "      <td>60</td>\n",
       "      <td>RL</td>\n",
       "      <td>65.0</td>\n",
       "      <td>8450</td>\n",
       "      <td>Pave</td>\n",
       "      <td>NaN</td>\n",
       "      <td>Reg</td>\n",
       "      <td>Lvl</td>\n",
       "      <td>AllPub</td>\n",
       "      <td>...</td>\n",
       "      <td>0</td>\n",
       "      <td>NaN</td>\n",
       "      <td>NaN</td>\n",
       "      <td>NaN</td>\n",
       "      <td>0</td>\n",
       "      <td>2</td>\n",
       "      <td>2008</td>\n",
       "      <td>WD</td>\n",
       "      <td>Normal</td>\n",
       "      <td>208500</td>\n",
       "    </tr>\n",
       "    <tr>\n",
       "      <th>1</th>\n",
       "      <td>2</td>\n",
       "      <td>20</td>\n",
       "      <td>RL</td>\n",
       "      <td>80.0</td>\n",
       "      <td>9600</td>\n",
       "      <td>Pave</td>\n",
       "      <td>NaN</td>\n",
       "      <td>Reg</td>\n",
       "      <td>Lvl</td>\n",
       "      <td>AllPub</td>\n",
       "      <td>...</td>\n",
       "      <td>0</td>\n",
       "      <td>NaN</td>\n",
       "      <td>NaN</td>\n",
       "      <td>NaN</td>\n",
       "      <td>0</td>\n",
       "      <td>5</td>\n",
       "      <td>2007</td>\n",
       "      <td>WD</td>\n",
       "      <td>Normal</td>\n",
       "      <td>181500</td>\n",
       "    </tr>\n",
       "    <tr>\n",
       "      <th>2</th>\n",
       "      <td>3</td>\n",
       "      <td>60</td>\n",
       "      <td>RL</td>\n",
       "      <td>68.0</td>\n",
       "      <td>11250</td>\n",
       "      <td>Pave</td>\n",
       "      <td>NaN</td>\n",
       "      <td>IR1</td>\n",
       "      <td>Lvl</td>\n",
       "      <td>AllPub</td>\n",
       "      <td>...</td>\n",
       "      <td>0</td>\n",
       "      <td>NaN</td>\n",
       "      <td>NaN</td>\n",
       "      <td>NaN</td>\n",
       "      <td>0</td>\n",
       "      <td>9</td>\n",
       "      <td>2008</td>\n",
       "      <td>WD</td>\n",
       "      <td>Normal</td>\n",
       "      <td>223500</td>\n",
       "    </tr>\n",
       "    <tr>\n",
       "      <th>3</th>\n",
       "      <td>4</td>\n",
       "      <td>70</td>\n",
       "      <td>RL</td>\n",
       "      <td>60.0</td>\n",
       "      <td>9550</td>\n",
       "      <td>Pave</td>\n",
       "      <td>NaN</td>\n",
       "      <td>IR1</td>\n",
       "      <td>Lvl</td>\n",
       "      <td>AllPub</td>\n",
       "      <td>...</td>\n",
       "      <td>0</td>\n",
       "      <td>NaN</td>\n",
       "      <td>NaN</td>\n",
       "      <td>NaN</td>\n",
       "      <td>0</td>\n",
       "      <td>2</td>\n",
       "      <td>2006</td>\n",
       "      <td>WD</td>\n",
       "      <td>Abnorml</td>\n",
       "      <td>140000</td>\n",
       "    </tr>\n",
       "    <tr>\n",
       "      <th>4</th>\n",
       "      <td>5</td>\n",
       "      <td>60</td>\n",
       "      <td>RL</td>\n",
       "      <td>84.0</td>\n",
       "      <td>14260</td>\n",
       "      <td>Pave</td>\n",
       "      <td>NaN</td>\n",
       "      <td>IR1</td>\n",
       "      <td>Lvl</td>\n",
       "      <td>AllPub</td>\n",
       "      <td>...</td>\n",
       "      <td>0</td>\n",
       "      <td>NaN</td>\n",
       "      <td>NaN</td>\n",
       "      <td>NaN</td>\n",
       "      <td>0</td>\n",
       "      <td>12</td>\n",
       "      <td>2008</td>\n",
       "      <td>WD</td>\n",
       "      <td>Normal</td>\n",
       "      <td>250000</td>\n",
       "    </tr>\n",
       "    <tr>\n",
       "      <th>...</th>\n",
       "      <td>...</td>\n",
       "      <td>...</td>\n",
       "      <td>...</td>\n",
       "      <td>...</td>\n",
       "      <td>...</td>\n",
       "      <td>...</td>\n",
       "      <td>...</td>\n",
       "      <td>...</td>\n",
       "      <td>...</td>\n",
       "      <td>...</td>\n",
       "      <td>...</td>\n",
       "      <td>...</td>\n",
       "      <td>...</td>\n",
       "      <td>...</td>\n",
       "      <td>...</td>\n",
       "      <td>...</td>\n",
       "      <td>...</td>\n",
       "      <td>...</td>\n",
       "      <td>...</td>\n",
       "      <td>...</td>\n",
       "      <td>...</td>\n",
       "    </tr>\n",
       "    <tr>\n",
       "      <th>1455</th>\n",
       "      <td>1456</td>\n",
       "      <td>60</td>\n",
       "      <td>RL</td>\n",
       "      <td>62.0</td>\n",
       "      <td>7917</td>\n",
       "      <td>Pave</td>\n",
       "      <td>NaN</td>\n",
       "      <td>Reg</td>\n",
       "      <td>Lvl</td>\n",
       "      <td>AllPub</td>\n",
       "      <td>...</td>\n",
       "      <td>0</td>\n",
       "      <td>NaN</td>\n",
       "      <td>NaN</td>\n",
       "      <td>NaN</td>\n",
       "      <td>0</td>\n",
       "      <td>8</td>\n",
       "      <td>2007</td>\n",
       "      <td>WD</td>\n",
       "      <td>Normal</td>\n",
       "      <td>175000</td>\n",
       "    </tr>\n",
       "    <tr>\n",
       "      <th>1456</th>\n",
       "      <td>1457</td>\n",
       "      <td>20</td>\n",
       "      <td>RL</td>\n",
       "      <td>85.0</td>\n",
       "      <td>13175</td>\n",
       "      <td>Pave</td>\n",
       "      <td>NaN</td>\n",
       "      <td>Reg</td>\n",
       "      <td>Lvl</td>\n",
       "      <td>AllPub</td>\n",
       "      <td>...</td>\n",
       "      <td>0</td>\n",
       "      <td>NaN</td>\n",
       "      <td>MnPrv</td>\n",
       "      <td>NaN</td>\n",
       "      <td>0</td>\n",
       "      <td>2</td>\n",
       "      <td>2010</td>\n",
       "      <td>WD</td>\n",
       "      <td>Normal</td>\n",
       "      <td>210000</td>\n",
       "    </tr>\n",
       "    <tr>\n",
       "      <th>1457</th>\n",
       "      <td>1458</td>\n",
       "      <td>70</td>\n",
       "      <td>RL</td>\n",
       "      <td>66.0</td>\n",
       "      <td>9042</td>\n",
       "      <td>Pave</td>\n",
       "      <td>NaN</td>\n",
       "      <td>Reg</td>\n",
       "      <td>Lvl</td>\n",
       "      <td>AllPub</td>\n",
       "      <td>...</td>\n",
       "      <td>0</td>\n",
       "      <td>NaN</td>\n",
       "      <td>GdPrv</td>\n",
       "      <td>Shed</td>\n",
       "      <td>2500</td>\n",
       "      <td>5</td>\n",
       "      <td>2010</td>\n",
       "      <td>WD</td>\n",
       "      <td>Normal</td>\n",
       "      <td>266500</td>\n",
       "    </tr>\n",
       "    <tr>\n",
       "      <th>1458</th>\n",
       "      <td>1459</td>\n",
       "      <td>20</td>\n",
       "      <td>RL</td>\n",
       "      <td>68.0</td>\n",
       "      <td>9717</td>\n",
       "      <td>Pave</td>\n",
       "      <td>NaN</td>\n",
       "      <td>Reg</td>\n",
       "      <td>Lvl</td>\n",
       "      <td>AllPub</td>\n",
       "      <td>...</td>\n",
       "      <td>0</td>\n",
       "      <td>NaN</td>\n",
       "      <td>NaN</td>\n",
       "      <td>NaN</td>\n",
       "      <td>0</td>\n",
       "      <td>4</td>\n",
       "      <td>2010</td>\n",
       "      <td>WD</td>\n",
       "      <td>Normal</td>\n",
       "      <td>142125</td>\n",
       "    </tr>\n",
       "    <tr>\n",
       "      <th>1459</th>\n",
       "      <td>1460</td>\n",
       "      <td>20</td>\n",
       "      <td>RL</td>\n",
       "      <td>75.0</td>\n",
       "      <td>9937</td>\n",
       "      <td>Pave</td>\n",
       "      <td>NaN</td>\n",
       "      <td>Reg</td>\n",
       "      <td>Lvl</td>\n",
       "      <td>AllPub</td>\n",
       "      <td>...</td>\n",
       "      <td>0</td>\n",
       "      <td>NaN</td>\n",
       "      <td>NaN</td>\n",
       "      <td>NaN</td>\n",
       "      <td>0</td>\n",
       "      <td>6</td>\n",
       "      <td>2008</td>\n",
       "      <td>WD</td>\n",
       "      <td>Normal</td>\n",
       "      <td>147500</td>\n",
       "    </tr>\n",
       "  </tbody>\n",
       "</table>\n",
       "<p>1460 rows × 81 columns</p>\n",
       "</div>"
      ],
      "text/plain": [
       "        Id  MSSubClass MSZoning  LotFrontage  LotArea Street Alley LotShape  \\\n",
       "0        1          60       RL         65.0     8450   Pave   NaN      Reg   \n",
       "1        2          20       RL         80.0     9600   Pave   NaN      Reg   \n",
       "2        3          60       RL         68.0    11250   Pave   NaN      IR1   \n",
       "3        4          70       RL         60.0     9550   Pave   NaN      IR1   \n",
       "4        5          60       RL         84.0    14260   Pave   NaN      IR1   \n",
       "...    ...         ...      ...          ...      ...    ...   ...      ...   \n",
       "1455  1456          60       RL         62.0     7917   Pave   NaN      Reg   \n",
       "1456  1457          20       RL         85.0    13175   Pave   NaN      Reg   \n",
       "1457  1458          70       RL         66.0     9042   Pave   NaN      Reg   \n",
       "1458  1459          20       RL         68.0     9717   Pave   NaN      Reg   \n",
       "1459  1460          20       RL         75.0     9937   Pave   NaN      Reg   \n",
       "\n",
       "     LandContour Utilities  ... PoolArea PoolQC  Fence MiscFeature MiscVal  \\\n",
       "0            Lvl    AllPub  ...        0    NaN    NaN         NaN       0   \n",
       "1            Lvl    AllPub  ...        0    NaN    NaN         NaN       0   \n",
       "2            Lvl    AllPub  ...        0    NaN    NaN         NaN       0   \n",
       "3            Lvl    AllPub  ...        0    NaN    NaN         NaN       0   \n",
       "4            Lvl    AllPub  ...        0    NaN    NaN         NaN       0   \n",
       "...          ...       ...  ...      ...    ...    ...         ...     ...   \n",
       "1455         Lvl    AllPub  ...        0    NaN    NaN         NaN       0   \n",
       "1456         Lvl    AllPub  ...        0    NaN  MnPrv         NaN       0   \n",
       "1457         Lvl    AllPub  ...        0    NaN  GdPrv        Shed    2500   \n",
       "1458         Lvl    AllPub  ...        0    NaN    NaN         NaN       0   \n",
       "1459         Lvl    AllPub  ...        0    NaN    NaN         NaN       0   \n",
       "\n",
       "     MoSold YrSold  SaleType  SaleCondition  SalePrice  \n",
       "0         2   2008        WD         Normal     208500  \n",
       "1         5   2007        WD         Normal     181500  \n",
       "2         9   2008        WD         Normal     223500  \n",
       "3         2   2006        WD        Abnorml     140000  \n",
       "4        12   2008        WD         Normal     250000  \n",
       "...     ...    ...       ...            ...        ...  \n",
       "1455      8   2007        WD         Normal     175000  \n",
       "1456      2   2010        WD         Normal     210000  \n",
       "1457      5   2010        WD         Normal     266500  \n",
       "1458      4   2010        WD         Normal     142125  \n",
       "1459      6   2008        WD         Normal     147500  \n",
       "\n",
       "[1460 rows x 81 columns]"
      ]
     },
     "execution_count": 2,
     "metadata": {},
     "output_type": "execute_result"
    }
   ],
   "source": [
    "df=pd.read_csv(\"/kaggle/input/home-data-for-ml-course/train.csv\")\n",
    "df"
   ]
  },
  {
   "cell_type": "code",
   "execution_count": 3,
   "id": "e4bd5d1d",
   "metadata": {
    "execution": {
     "iopub.execute_input": "2025-01-01T16:37:07.913200Z",
     "iopub.status.busy": "2025-01-01T16:37:07.912946Z",
     "iopub.status.idle": "2025-01-01T16:37:07.930230Z",
     "shell.execute_reply": "2025-01-01T16:37:07.929446Z"
    },
    "papermill": {
     "duration": 0.027927,
     "end_time": "2025-01-01T16:37:07.931360",
     "exception": false,
     "start_time": "2025-01-01T16:37:07.903433",
     "status": "completed"
    },
    "tags": []
   },
   "outputs": [
    {
     "name": "stdout",
     "output_type": "stream",
     "text": [
      "Id               1460\n",
      "MSSubClass         15\n",
      "MSZoning            5\n",
      "LotFrontage       110\n",
      "LotArea          1073\n",
      "                 ... \n",
      "MoSold             12\n",
      "YrSold              5\n",
      "SaleType            9\n",
      "SaleCondition       6\n",
      "SalePrice         663\n",
      "Length: 81, dtype: int64\n"
     ]
    }
   ],
   "source": [
    "unique_counts = df.nunique()\n",
    "print(unique_counts)"
   ]
  },
  {
   "cell_type": "code",
   "execution_count": 4,
   "id": "3ddcba72",
   "metadata": {
    "execution": {
     "iopub.execute_input": "2025-01-01T16:37:07.950497Z",
     "iopub.status.busy": "2025-01-01T16:37:07.950267Z",
     "iopub.status.idle": "2025-01-01T16:37:07.970052Z",
     "shell.execute_reply": "2025-01-01T16:37:07.968992Z"
    },
    "papermill": {
     "duration": 0.030396,
     "end_time": "2025-01-01T16:37:07.971355",
     "exception": false,
     "start_time": "2025-01-01T16:37:07.940959",
     "status": "completed"
    },
    "tags": []
   },
   "outputs": [
    {
     "name": "stdout",
     "output_type": "stream",
     "text": [
      "<class 'pandas.core.frame.DataFrame'>\n",
      "RangeIndex: 1460 entries, 0 to 1459\n",
      "Data columns (total 81 columns):\n",
      " #   Column         Non-Null Count  Dtype  \n",
      "---  ------         --------------  -----  \n",
      " 0   Id             1460 non-null   int64  \n",
      " 1   MSSubClass     1460 non-null   int64  \n",
      " 2   MSZoning       1460 non-null   object \n",
      " 3   LotFrontage    1201 non-null   float64\n",
      " 4   LotArea        1460 non-null   int64  \n",
      " 5   Street         1460 non-null   object \n",
      " 6   Alley          91 non-null     object \n",
      " 7   LotShape       1460 non-null   object \n",
      " 8   LandContour    1460 non-null   object \n",
      " 9   Utilities      1460 non-null   object \n",
      " 10  LotConfig      1460 non-null   object \n",
      " 11  LandSlope      1460 non-null   object \n",
      " 12  Neighborhood   1460 non-null   object \n",
      " 13  Condition1     1460 non-null   object \n",
      " 14  Condition2     1460 non-null   object \n",
      " 15  BldgType       1460 non-null   object \n",
      " 16  HouseStyle     1460 non-null   object \n",
      " 17  OverallQual    1460 non-null   int64  \n",
      " 18  OverallCond    1460 non-null   int64  \n",
      " 19  YearBuilt      1460 non-null   int64  \n",
      " 20  YearRemodAdd   1460 non-null   int64  \n",
      " 21  RoofStyle      1460 non-null   object \n",
      " 22  RoofMatl       1460 non-null   object \n",
      " 23  Exterior1st    1460 non-null   object \n",
      " 24  Exterior2nd    1460 non-null   object \n",
      " 25  MasVnrType     588 non-null    object \n",
      " 26  MasVnrArea     1452 non-null   float64\n",
      " 27  ExterQual      1460 non-null   object \n",
      " 28  ExterCond      1460 non-null   object \n",
      " 29  Foundation     1460 non-null   object \n",
      " 30  BsmtQual       1423 non-null   object \n",
      " 31  BsmtCond       1423 non-null   object \n",
      " 32  BsmtExposure   1422 non-null   object \n",
      " 33  BsmtFinType1   1423 non-null   object \n",
      " 34  BsmtFinSF1     1460 non-null   int64  \n",
      " 35  BsmtFinType2   1422 non-null   object \n",
      " 36  BsmtFinSF2     1460 non-null   int64  \n",
      " 37  BsmtUnfSF      1460 non-null   int64  \n",
      " 38  TotalBsmtSF    1460 non-null   int64  \n",
      " 39  Heating        1460 non-null   object \n",
      " 40  HeatingQC      1460 non-null   object \n",
      " 41  CentralAir     1460 non-null   object \n",
      " 42  Electrical     1459 non-null   object \n",
      " 43  1stFlrSF       1460 non-null   int64  \n",
      " 44  2ndFlrSF       1460 non-null   int64  \n",
      " 45  LowQualFinSF   1460 non-null   int64  \n",
      " 46  GrLivArea      1460 non-null   int64  \n",
      " 47  BsmtFullBath   1460 non-null   int64  \n",
      " 48  BsmtHalfBath   1460 non-null   int64  \n",
      " 49  FullBath       1460 non-null   int64  \n",
      " 50  HalfBath       1460 non-null   int64  \n",
      " 51  BedroomAbvGr   1460 non-null   int64  \n",
      " 52  KitchenAbvGr   1460 non-null   int64  \n",
      " 53  KitchenQual    1460 non-null   object \n",
      " 54  TotRmsAbvGrd   1460 non-null   int64  \n",
      " 55  Functional     1460 non-null   object \n",
      " 56  Fireplaces     1460 non-null   int64  \n",
      " 57  FireplaceQu    770 non-null    object \n",
      " 58  GarageType     1379 non-null   object \n",
      " 59  GarageYrBlt    1379 non-null   float64\n",
      " 60  GarageFinish   1379 non-null   object \n",
      " 61  GarageCars     1460 non-null   int64  \n",
      " 62  GarageArea     1460 non-null   int64  \n",
      " 63  GarageQual     1379 non-null   object \n",
      " 64  GarageCond     1379 non-null   object \n",
      " 65  PavedDrive     1460 non-null   object \n",
      " 66  WoodDeckSF     1460 non-null   int64  \n",
      " 67  OpenPorchSF    1460 non-null   int64  \n",
      " 68  EnclosedPorch  1460 non-null   int64  \n",
      " 69  3SsnPorch      1460 non-null   int64  \n",
      " 70  ScreenPorch    1460 non-null   int64  \n",
      " 71  PoolArea       1460 non-null   int64  \n",
      " 72  PoolQC         7 non-null      object \n",
      " 73  Fence          281 non-null    object \n",
      " 74  MiscFeature    54 non-null     object \n",
      " 75  MiscVal        1460 non-null   int64  \n",
      " 76  MoSold         1460 non-null   int64  \n",
      " 77  YrSold         1460 non-null   int64  \n",
      " 78  SaleType       1460 non-null   object \n",
      " 79  SaleCondition  1460 non-null   object \n",
      " 80  SalePrice      1460 non-null   int64  \n",
      "dtypes: float64(3), int64(35), object(43)\n",
      "memory usage: 924.0+ KB\n"
     ]
    }
   ],
   "source": [
    "df.info()"
   ]
  },
  {
   "cell_type": "code",
   "execution_count": 5,
   "id": "cb532f57",
   "metadata": {
    "execution": {
     "iopub.execute_input": "2025-01-01T16:37:07.990532Z",
     "iopub.status.busy": "2025-01-01T16:37:07.990313Z",
     "iopub.status.idle": "2025-01-01T16:37:08.311455Z",
     "shell.execute_reply": "2025-01-01T16:37:08.310518Z"
    },
    "papermill": {
     "duration": 0.332291,
     "end_time": "2025-01-01T16:37:08.313039",
     "exception": false,
     "start_time": "2025-01-01T16:37:07.980748",
     "status": "completed"
    },
    "tags": []
   },
   "outputs": [
    {
     "data": {
      "text/plain": [
       "<Axes: >"
      ]
     },
     "execution_count": 5,
     "metadata": {},
     "output_type": "execute_result"
    },
    {
     "data": {
      "image/png": "[encoded data removed]",
      "text/plain": [
       "<Figure size 640x480 with 1 Axes>"
      ]
     },
     "metadata": {},
     "output_type": "display_data"
    }
   ],
   "source": [
    "missing = df.isnull().sum()\n",
    "missing=missing[missing>0]\n",
    "missing.plot.bar()"
   ]
  },
  {
   "cell_type": "code",
   "execution_count": 6,
   "id": "300f4bf2",
   "metadata": {
    "execution": {
     "iopub.execute_input": "2025-01-01T16:37:08.334378Z",
     "iopub.status.busy": "2025-01-01T16:37:08.334101Z",
     "iopub.status.idle": "2025-01-01T16:37:08.339740Z",
     "shell.execute_reply": "2025-01-01T16:37:08.338840Z"
    },
    "papermill": {
     "duration": 0.017422,
     "end_time": "2025-01-01T16:37:08.341058",
     "exception": false,
     "start_time": "2025-01-01T16:37:08.323636",
     "status": "completed"
    },
    "tags": []
   },
   "outputs": [],
   "source": [
    "df.drop(columns=['Id','Alley', 'MasVnrType', 'PoolQC', 'Fence', 'MiscFeature'], inplace=True)"
   ]
  },
  {
   "cell_type": "code",
   "execution_count": 7,
   "id": "3f015d6a",
   "metadata": {
    "execution": {
     "iopub.execute_input": "2025-01-01T16:37:08.360772Z",
     "iopub.status.busy": "2025-01-01T16:37:08.360514Z",
     "iopub.status.idle": "2025-01-01T16:37:08.374723Z",
     "shell.execute_reply": "2025-01-01T16:37:08.373747Z"
    },
    "papermill": {
     "duration": 0.025751,
     "end_time": "2025-01-01T16:37:08.376231",
     "exception": false,
     "start_time": "2025-01-01T16:37:08.350480",
     "status": "completed"
    },
    "tags": []
   },
   "outputs": [
    {
     "name": "stdout",
     "output_type": "stream",
     "text": [
      "<class 'pandas.core.frame.DataFrame'>\n",
      "RangeIndex: 1460 entries, 0 to 1459\n",
      "Data columns (total 75 columns):\n",
      " #   Column         Non-Null Count  Dtype  \n",
      "---  ------         --------------  -----  \n",
      " 0   MSSubClass     1460 non-null   int64  \n",
      " 1   MSZoning       1460 non-null   object \n",
      " 2   LotFrontage    1201 non-null   float64\n",
      " 3   LotArea        1460 non-null   int64  \n",
      " 4   Street         1460 non-null   object \n",
      " 5   LotShape       1460 non-null   object \n",
      " 6   LandContour    1460 non-null   object \n",
      " 7   Utilities      1460 non-null   object \n",
      " 8   LotConfig      1460 non-null   object \n",
      " 9   LandSlope      1460 non-null   object \n",
      " 10  Neighborhood   1460 non-null   object \n",
      " 11  Condition1     1460 non-null   object \n",
      " 12  Condition2     1460 non-null   object \n",
      " 13  BldgType       1460 non-null   object \n",
      " 14  HouseStyle     1460 non-null   object \n",
      " 15  OverallQual    1460 non-null   int64  \n",
      " 16  OverallCond    1460 non-null   int64  \n",
      " 17  YearBuilt      1460 non-null   int64  \n",
      " 18  YearRemodAdd   1460 non-null   int64  \n",
      " 19  RoofStyle      1460 non-null   object \n",
      " 20  RoofMatl       1460 non-null   object \n",
      " 21  Exterior1st    1460 non-null   object \n",
      " 22  Exterior2nd    1460 non-null   object \n",
      " 23  MasVnrArea     1452 non-null   float64\n",
      " 24  ExterQual      1460 non-null   object \n",
      " 25  ExterCond      1460 non-null   object \n",
      " 26  Foundation     1460 non-null   object \n",
      " 27  BsmtQual       1423 non-null   object \n",
      " 28  BsmtCond       1423 non-null   object \n",
      " 29  BsmtExposure   1422 non-null   object \n",
      " 30  BsmtFinType1   1423 non-null   object \n",
      " 31  BsmtFinSF1     1460 non-null   int64  \n",
      " 32  BsmtFinType2   1422 non-null   object \n",
      " 33  BsmtFinSF2     1460 non-null   int64  \n",
      " 34  BsmtUnfSF      1460 non-null   int64  \n",
      " 35  TotalBsmtSF    1460 non-null   int64  \n",
      " 36  Heating        1460 non-null   object \n",
      " 37  HeatingQC      1460 non-null   object \n",
      " 38  CentralAir     1460 non-null   object \n",
      " 39  Electrical     1459 non-null   object \n",
      " 40  1stFlrSF       1460 non-null   int64  \n",
      " 41  2ndFlrSF       1460 non-null   int64  \n",
      " 42  LowQualFinSF   1460 non-null   int64  \n",
      " 43  GrLivArea      1460 non-null   int64  \n",
      " 44  BsmtFullBath   1460 non-null   int64  \n",
      " 45  BsmtHalfBath   1460 non-null   int64  \n",
      " 46  FullBath       1460 non-null   int64  \n",
      " 47  HalfBath       1460 non-null   int64  \n",
      " 48  BedroomAbvGr   1460 non-null   int64  \n",
      " 49  KitchenAbvGr   1460 non-null   int64  \n",
      " 50  KitchenQual    1460 non-null   object \n",
      " 51  TotRmsAbvGrd   1460 non-null   int64  \n",
      " 52  Functional     1460 non-null   object \n",
      " 53  Fireplaces     1460 non-null   int64  \n",
      " 54  FireplaceQu    770 non-null    object \n",
      " 55  GarageType     1379 non-null   object \n",
      " 56  GarageYrBlt    1379 non-null   float64\n",
      " 57  GarageFinish   1379 non-null   object \n",
      " 58  GarageCars     1460 non-null   int64  \n",
      " 59  GarageArea     1460 non-null   int64  \n",
      " 60  GarageQual     1379 non-null   object \n",
      " 61  GarageCond     1379 non-null   object \n",
      " 62  PavedDrive     1460 non-null   object \n",
      " 63  WoodDeckSF     1460 non-null   int64  \n",
      " 64  OpenPorchSF    1460 non-null   int64  \n",
      " 65  EnclosedPorch  1460 non-null   int64  \n",
      " 66  3SsnPorch      1460 non-null   int64  \n",
      " 67  ScreenPorch    1460 non-null   int64  \n",
      " 68  PoolArea       1460 non-null   int64  \n",
      " 69  MiscVal        1460 non-null   int64  \n",
      " 70  MoSold         1460 non-null   int64  \n",
      " 71  YrSold         1460 non-null   int64  \n",
      " 72  SaleType       1460 non-null   object \n",
      " 73  SaleCondition  1460 non-null   object \n",
      " 74  SalePrice      1460 non-null   int64  \n",
      "dtypes: float64(3), int64(34), object(38)\n",
      "memory usage: 855.6+ KB\n"
     ]
    }
   ],
   "source": [
    "df.info()"
   ]
  },
  {
   "cell_type": "code",
   "execution_count": 8,
   "id": "6a4d7f4f",
   "metadata": {
    "execution": {
     "iopub.execute_input": "2025-01-01T16:37:08.396455Z",
     "iopub.status.busy": "2025-01-01T16:37:08.396227Z",
     "iopub.status.idle": "2025-01-01T16:37:08.401677Z",
     "shell.execute_reply": "2025-01-01T16:37:08.400987Z"
    },
    "papermill": {
     "duration": 0.017066,
     "end_time": "2025-01-01T16:37:08.403070",
     "exception": false,
     "start_time": "2025-01-01T16:37:08.386004",
     "status": "completed"
    },
    "tags": []
   },
   "outputs": [],
   "source": [
    "df['LotFrontage'] = df['LotFrontage'].fillna(df['LotFrontage'].mean())\n",
    "df['MasVnrArea'] = df['MasVnrArea'].fillna(df['MasVnrArea'].mean())\n",
    "df['GarageYrBlt'] = df['GarageYrBlt'].fillna(df['GarageYrBlt'].mean())"
   ]
  },
  {
   "cell_type": "code",
   "execution_count": 9,
   "id": "91489f3d",
   "metadata": {
    "execution": {
     "iopub.execute_input": "2025-01-01T16:37:08.423183Z",
     "iopub.status.busy": "2025-01-01T16:37:08.422969Z",
     "iopub.status.idle": "2025-01-01T16:37:08.436765Z",
     "shell.execute_reply": "2025-01-01T16:37:08.435511Z"
    },
    "papermill": {
     "duration": 0.025155,
     "end_time": "2025-01-01T16:37:08.438098",
     "exception": false,
     "start_time": "2025-01-01T16:37:08.412943",
     "status": "completed"
    },
    "tags": []
   },
   "outputs": [
    {
     "name": "stdout",
     "output_type": "stream",
     "text": [
      "<class 'pandas.core.frame.DataFrame'>\n",
      "RangeIndex: 1460 entries, 0 to 1459\n",
      "Data columns (total 75 columns):\n",
      " #   Column         Non-Null Count  Dtype  \n",
      "---  ------         --------------  -----  \n",
      " 0   MSSubClass     1460 non-null   int64  \n",
      " 1   MSZoning       1460 non-null   object \n",
      " 2   LotFrontage    1460 non-null   float64\n",
      " 3   LotArea        1460 non-null   int64  \n",
      " 4   Street         1460 non-null   object \n",
      " 5   LotShape       1460 non-null   object \n",
      " 6   LandContour    1460 non-null   object \n",
      " 7   Utilities      1460 non-null   object \n",
      " 8   LotConfig      1460 non-null   object \n",
      " 9   LandSlope      1460 non-null   object \n",
      " 10  Neighborhood   1460 non-null   object \n",
      " 11  Condition1     1460 non-null   object \n",
      " 12  Condition2     1460 non-null   object \n",
      " 13  BldgType       1460 non-null   object \n",
      " 14  HouseStyle     1460 non-null   object \n",
      " 15  OverallQual    1460 non-null   int64  \n",
      " 16  OverallCond    1460 non-null   int64  \n",
      " 17  YearBuilt      1460 non-null   int64  \n",
      " 18  YearRemodAdd   1460 non-null   int64  \n",
      " 19  RoofStyle      1460 non-null   object \n",
      " 20  RoofMatl       1460 non-null   object \n",
      " 21  Exterior1st    1460 non-null   object \n",
      " 22  Exterior2nd    1460 non-null   object \n",
      " 23  MasVnrArea     1460 non-null   float64\n",
      " 24  ExterQual      1460 non-null   object \n",
      " 25  ExterCond      1460 non-null   object \n",
      " 26  Foundation     1460 non-null   object \n",
      " 27  BsmtQual       1423 non-null   object \n",
      " 28  BsmtCond       1423 non-null   object \n",
      " 29  BsmtExposure   1422 non-null   object \n",
      " 30  BsmtFinType1   1423 non-null   object \n",
      " 31  BsmtFinSF1     1460 non-null   int64  \n",
      " 32  BsmtFinType2   1422 non-null   object \n",
      " 33  BsmtFinSF2     1460 non-null   int64  \n",
      " 34  BsmtUnfSF      1460 non-null   int64  \n",
      " 35  TotalBsmtSF    1460 non-null   int64  \n",
      " 36  Heating        1460 non-null   object \n",
      " 37  HeatingQC      1460 non-null   object \n",
      " 38  CentralAir     1460 non-null   object \n",
      " 39  Electrical     1459 non-null   object \n",
      " 40  1stFlrSF       1460 non-null   int64  \n",
      " 41  2ndFlrSF       1460 non-null   int64  \n",
      " 42  LowQualFinSF   1460 non-null   int64  \n",
      " 43  GrLivArea      1460 non-null   int64  \n",
      " 44  BsmtFullBath   1460 non-null   int64  \n",
      " 45  BsmtHalfBath   1460 non-null   int64  \n",
      " 46  FullBath       1460 non-null   int64  \n",
      " 47  HalfBath       1460 non-null   int64  \n",
      " 48  BedroomAbvGr   1460 non-null   int64  \n",
      " 49  KitchenAbvGr   1460 non-null   int64  \n",
      " 50  KitchenQual    1460 non-null   object \n",
      " 51  TotRmsAbvGrd   1460 non-null   int64  \n",
      " 52  Functional     1460 non-null   object \n",
      " 53  Fireplaces     1460 non-null   int64  \n",
      " 54  FireplaceQu    770 non-null    object \n",
      " 55  GarageType     1379 non-null   object \n",
      " 56  GarageYrBlt    1460 non-null   float64\n",
      " 57  GarageFinish   1379 non-null   object \n",
      " 58  GarageCars     1460 non-null   int64  \n",
      " 59  GarageArea     1460 non-null   int64  \n",
      " 60  GarageQual     1379 non-null   object \n",
      " 61  GarageCond     1379 non-null   object \n",
      " 62  PavedDrive     1460 non-null   object \n",
      " 63  WoodDeckSF     1460 non-null   int64  \n",
      " 64  OpenPorchSF    1460 non-null   int64  \n",
      " 65  EnclosedPorch  1460 non-null   int64  \n",
      " 66  3SsnPorch      1460 non-null   int64  \n",
      " 67  ScreenPorch    1460 non-null   int64  \n",
      " 68  PoolArea       1460 non-null   int64  \n",
      " 69  MiscVal        1460 non-null   int64  \n",
      " 70  MoSold         1460 non-null   int64  \n",
      " 71  YrSold         1460 non-null   int64  \n",
      " 72  SaleType       1460 non-null   object \n",
      " 73  SaleCondition  1460 non-null   object \n",
      " 74  SalePrice      1460 non-null   int64  \n",
      "dtypes: float64(3), int64(34), object(38)\n",
      "memory usage: 855.6+ KB\n"
     ]
    }
   ],
   "source": [
    "df.info()"
   ]
  },
  {
   "cell_type": "code",
   "execution_count": 10,
   "id": "c6780e52",
   "metadata": {
    "execution": {
     "iopub.execute_input": "2025-01-01T16:37:08.458065Z",
     "iopub.status.busy": "2025-01-01T16:37:08.457811Z",
     "iopub.status.idle": "2025-01-01T16:37:08.471843Z",
     "shell.execute_reply": "2025-01-01T16:37:08.471221Z"
    },
    "papermill": {
     "duration": 0.025124,
     "end_time": "2025-01-01T16:37:08.473046",
     "exception": false,
     "start_time": "2025-01-01T16:37:08.447922",
     "status": "completed"
    },
    "tags": []
   },
   "outputs": [],
   "source": [
    "df['BsmtQual'] = df['BsmtQual'].fillna(df['BsmtQual'].mode()[0])\n",
    "df['BsmtCond'] = df['BsmtCond'].fillna(df['BsmtCond'].mode()[0])\n",
    "df['BsmtExposure'] = df['BsmtExposure'].fillna(df['BsmtExposure'].mode()[0])\n",
    "df['BsmtFinType1'] = df['BsmtFinType1'].fillna(df['BsmtFinType1'].mode()[0])\n",
    "df['BsmtFinType2'] = df['BsmtFinType2'].fillna(df['BsmtFinType2'].mode()[0])\n",
    "df['Electrical'] = df['Electrical'].fillna(df['Electrical'].mode()[0])\n",
    "df['GarageType'] = df['GarageType'].fillna(df['GarageType'].mode()[0])\n",
    "df['GarageFinish'] = df['GarageFinish'].fillna(df['GarageFinish'].mode()[0])\n",
    "df['GarageQual'] = df['GarageQual'].fillna(df['GarageQual'].mode()[0])\n",
    "df['GarageCond'] = df['GarageCond'].fillna(df['GarageCond'].mode()[0])\n",
    "df['FireplaceQu'] = df['FireplaceQu'].fillna(df['FireplaceQu'].mode()[0])"
   ]
  },
  {
   "cell_type": "code",
   "execution_count": 11,
   "id": "53deae8f",
   "metadata": {
    "execution": {
     "iopub.execute_input": "2025-01-01T16:37:08.493225Z",
     "iopub.status.busy": "2025-01-01T16:37:08.492992Z",
     "iopub.status.idle": "2025-01-01T16:37:08.498467Z",
     "shell.execute_reply": "2025-01-01T16:37:08.497744Z"
    },
    "papermill": {
     "duration": 0.017192,
     "end_time": "2025-01-01T16:37:08.499744",
     "exception": false,
     "start_time": "2025-01-01T16:37:08.482552",
     "status": "completed"
    },
    "tags": []
   },
   "outputs": [
    {
     "data": {
      "text/plain": [
       "Index(['MSSubClass', 'LotFrontage', 'LotArea', 'OverallQual', 'OverallCond',\n",
       "       'YearBuilt', 'YearRemodAdd', 'MasVnrArea', 'BsmtFinSF1', 'BsmtFinSF2',\n",
       "       'BsmtUnfSF', 'TotalBsmtSF', '1stFlrSF', '2ndFlrSF', 'LowQualFinSF',\n",
       "       'GrLivArea', 'BsmtFullBath', 'BsmtHalfBath', 'FullBath', 'HalfBath',\n",
       "       'BedroomAbvGr', 'KitchenAbvGr', 'TotRmsAbvGrd', 'Fireplaces',\n",
       "       'GarageYrBlt', 'GarageCars', 'GarageArea', 'WoodDeckSF', 'OpenPorchSF',\n",
       "       'EnclosedPorch', '3SsnPorch', 'ScreenPorch', 'PoolArea', 'MiscVal',\n",
       "       'MoSold', 'YrSold', 'SalePrice'],\n",
       "      dtype='object')"
      ]
     },
     "execution_count": 11,
     "metadata": {},
     "output_type": "execute_result"
    }
   ],
   "source": [
    "nn = df.select_dtypes(include=[np.number])\n",
    "nn.columns"
   ]
  },
  {
   "cell_type": "code",
   "execution_count": 12,
   "id": "3a291621",
   "metadata": {
    "execution": {
     "iopub.execute_input": "2025-01-01T16:37:08.520914Z",
     "iopub.status.busy": "2025-01-01T16:37:08.520638Z",
     "iopub.status.idle": "2025-01-01T16:37:08.533327Z",
     "shell.execute_reply": "2025-01-01T16:37:08.532194Z"
    },
    "papermill": {
     "duration": 0.024378,
     "end_time": "2025-01-01T16:37:08.534548",
     "exception": false,
     "start_time": "2025-01-01T16:37:08.510170",
     "status": "completed"
    },
    "tags": []
   },
   "outputs": [
    {
     "name": "stdout",
     "output_type": "stream",
     "text": [
      "KitchenAbvGr    -0.135907\n",
      "EnclosedPorch   -0.128578\n",
      "MSSubClass      -0.084284\n",
      "OverallCond     -0.077856\n",
      "YrSold          -0.028923\n",
      "LowQualFinSF    -0.025606\n",
      "MiscVal         -0.021190\n",
      "BsmtHalfBath    -0.016844\n",
      "BsmtFinSF2      -0.011378\n",
      "3SsnPorch        0.044584\n",
      "MoSold           0.046432\n",
      "PoolArea         0.092404\n",
      "ScreenPorch      0.111447\n",
      "BedroomAbvGr     0.168213\n",
      "BsmtUnfSF        0.214479\n",
      "BsmtFullBath     0.227122\n",
      "LotArea          0.263843\n",
      "HalfBath         0.284108\n",
      "OpenPorchSF      0.315856\n",
      "2ndFlrSF         0.319334\n",
      "WoodDeckSF       0.324413\n",
      "LotFrontage      0.334901\n",
      "BsmtFinSF1       0.386420\n",
      "Fireplaces       0.466929\n",
      "GarageYrBlt      0.470177\n",
      "MasVnrArea       0.475241\n",
      "YearRemodAdd     0.507101\n",
      "YearBuilt        0.522897\n",
      "TotRmsAbvGrd     0.533723\n",
      "FullBath         0.560664\n",
      "1stFlrSF         0.605852\n",
      "TotalBsmtSF      0.613581\n",
      "GarageArea       0.623431\n",
      "GarageCars       0.640409\n",
      "GrLivArea        0.708624\n",
      "OverallQual      0.790982\n",
      "SalePrice        1.000000\n",
      "Name: SalePrice, dtype: float64\n"
     ]
    }
   ],
   "source": [
    "correlation = nn.corr()\n",
    "correlation_with_target = correlation['SalePrice']\n",
    "\n",
    "# Sort correlations in ascending order\n",
    "correlation_sorted = correlation_with_target.sort_values()\n",
    "\n",
    "# Display the sorted correlations\n",
    "print(correlation_sorted)\n"
   ]
  },
  {
   "cell_type": "code",
   "execution_count": 13,
   "id": "754900f8",
   "metadata": {
    "execution": {
     "iopub.execute_input": "2025-01-01T16:37:08.554958Z",
     "iopub.status.busy": "2025-01-01T16:37:08.554711Z",
     "iopub.status.idle": "2025-01-01T16:37:08.572796Z",
     "shell.execute_reply": "2025-01-01T16:37:08.571569Z"
    },
    "papermill": {
     "duration": 0.029925,
     "end_time": "2025-01-01T16:37:08.574213",
     "exception": false,
     "start_time": "2025-01-01T16:37:08.544288",
     "status": "completed"
    },
    "tags": []
   },
   "outputs": [
    {
     "name": "stdout",
     "output_type": "stream",
     "text": [
      "<class 'pandas.core.frame.DataFrame'>\n",
      "RangeIndex: 1460 entries, 0 to 1459\n",
      "Data columns (total 61 columns):\n",
      " #   Column         Non-Null Count  Dtype  \n",
      "---  ------         --------------  -----  \n",
      " 0   MSZoning       1460 non-null   object \n",
      " 1   LotFrontage    1460 non-null   float64\n",
      " 2   LotArea        1460 non-null   int64  \n",
      " 3   Street         1460 non-null   object \n",
      " 4   LotShape       1460 non-null   object \n",
      " 5   LandContour    1460 non-null   object \n",
      " 6   Utilities      1460 non-null   object \n",
      " 7   LotConfig      1460 non-null   object \n",
      " 8   LandSlope      1460 non-null   object \n",
      " 9   Neighborhood   1460 non-null   object \n",
      " 10  Condition1     1460 non-null   object \n",
      " 11  Condition2     1460 non-null   object \n",
      " 12  BldgType       1460 non-null   object \n",
      " 13  HouseStyle     1460 non-null   object \n",
      " 14  OverallQual    1460 non-null   int64  \n",
      " 15  YearBuilt      1460 non-null   int64  \n",
      " 16  YearRemodAdd   1460 non-null   int64  \n",
      " 17  RoofStyle      1460 non-null   object \n",
      " 18  RoofMatl       1460 non-null   object \n",
      " 19  Exterior1st    1460 non-null   object \n",
      " 20  Exterior2nd    1460 non-null   object \n",
      " 21  MasVnrArea     1460 non-null   float64\n",
      " 22  ExterQual      1460 non-null   object \n",
      " 23  ExterCond      1460 non-null   object \n",
      " 24  Foundation     1460 non-null   object \n",
      " 25  BsmtQual       1460 non-null   object \n",
      " 26  BsmtCond       1460 non-null   object \n",
      " 27  BsmtExposure   1460 non-null   object \n",
      " 28  BsmtFinType1   1460 non-null   object \n",
      " 29  BsmtFinSF1     1460 non-null   int64  \n",
      " 30  BsmtFinType2   1460 non-null   object \n",
      " 31  BsmtUnfSF      1460 non-null   int64  \n",
      " 32  TotalBsmtSF    1460 non-null   int64  \n",
      " 33  Heating        1460 non-null   object \n",
      " 34  HeatingQC      1460 non-null   object \n",
      " 35  CentralAir     1460 non-null   object \n",
      " 36  Electrical     1460 non-null   object \n",
      " 37  1stFlrSF       1460 non-null   int64  \n",
      " 38  2ndFlrSF       1460 non-null   int64  \n",
      " 39  GrLivArea      1460 non-null   int64  \n",
      " 40  BsmtFullBath   1460 non-null   int64  \n",
      " 41  FullBath       1460 non-null   int64  \n",
      " 42  HalfBath       1460 non-null   int64  \n",
      " 43  KitchenQual    1460 non-null   object \n",
      " 44  TotRmsAbvGrd   1460 non-null   int64  \n",
      " 45  Functional     1460 non-null   object \n",
      " 46  Fireplaces     1460 non-null   int64  \n",
      " 47  FireplaceQu    1460 non-null   object \n",
      " 48  GarageType     1460 non-null   object \n",
      " 49  GarageYrBlt    1460 non-null   float64\n",
      " 50  GarageFinish   1460 non-null   object \n",
      " 51  GarageCars     1460 non-null   int64  \n",
      " 52  GarageArea     1460 non-null   int64  \n",
      " 53  GarageQual     1460 non-null   object \n",
      " 54  GarageCond     1460 non-null   object \n",
      " 55  PavedDrive     1460 non-null   object \n",
      " 56  WoodDeckSF     1460 non-null   int64  \n",
      " 57  OpenPorchSF    1460 non-null   int64  \n",
      " 58  SaleType       1460 non-null   object \n",
      " 59  SaleCondition  1460 non-null   object \n",
      " 60  SalePrice      1460 non-null   int64  \n",
      "dtypes: float64(3), int64(20), object(38)\n",
      "memory usage: 695.9+ KB\n"
     ]
    }
   ],
   "source": [
    "columns_to_drop = [\n",
    "    'KitchenAbvGr', 'EnclosedPorch', 'MSSubClass', 'OverallCond', 'YrSold',\n",
    "    'LowQualFinSF', 'MiscVal', 'BsmtHalfBath', 'BsmtFinSF2', '3SsnPorch',\n",
    "    'MoSold', 'PoolArea', 'ScreenPorch', 'BedroomAbvGr'\n",
    "]\n",
    "\n",
    "df = df.drop(columns=columns_to_drop)\n",
    "\n",
    "df.info()"
   ]
  },
  {
   "cell_type": "code",
   "execution_count": 14,
   "id": "5433b59b",
   "metadata": {
    "execution": {
     "iopub.execute_input": "2025-01-01T16:37:08.595124Z",
     "iopub.status.busy": "2025-01-01T16:37:08.594847Z",
     "iopub.status.idle": "2025-01-01T16:37:08.600535Z",
     "shell.execute_reply": "2025-01-01T16:37:08.599591Z"
    },
    "papermill": {
     "duration": 0.017819,
     "end_time": "2025-01-01T16:37:08.602124",
     "exception": false,
     "start_time": "2025-01-01T16:37:08.584305",
     "status": "completed"
    },
    "tags": []
   },
   "outputs": [],
   "source": [
    "df_train = df.copy()"
   ]
  },
  {
   "cell_type": "code",
   "execution_count": 15,
   "id": "bcde53c9",
   "metadata": {
    "execution": {
     "iopub.execute_input": "2025-01-01T16:37:08.623624Z",
     "iopub.status.busy": "2025-01-01T16:37:08.623390Z",
     "iopub.status.idle": "2025-01-01T16:37:08.668167Z",
     "shell.execute_reply": "2025-01-01T16:37:08.667094Z"
    },
    "papermill": {
     "duration": 0.056516,
     "end_time": "2025-01-01T16:37:08.669604",
     "exception": false,
     "start_time": "2025-01-01T16:37:08.613088",
     "status": "completed"
    },
    "tags": []
   },
   "outputs": [
    {
     "name": "stdout",
     "output_type": "stream",
     "text": [
      "<class 'pandas.core.frame.DataFrame'>\n",
      "RangeIndex: 1459 entries, 0 to 1458\n",
      "Data columns (total 80 columns):\n",
      " #   Column         Non-Null Count  Dtype  \n",
      "---  ------         --------------  -----  \n",
      " 0   Id             1459 non-null   int64  \n",
      " 1   MSSubClass     1459 non-null   int64  \n",
      " 2   MSZoning       1455 non-null   object \n",
      " 3   LotFrontage    1232 non-null   float64\n",
      " 4   LotArea        1459 non-null   int64  \n",
      " 5   Street         1459 non-null   object \n",
      " 6   Alley          107 non-null    object \n",
      " 7   LotShape       1459 non-null   object \n",
      " 8   LandContour    1459 non-null   object \n",
      " 9   Utilities      1457 non-null   object \n",
      " 10  LotConfig      1459 non-null   object \n",
      " 11  LandSlope      1459 non-null   object \n",
      " 12  Neighborhood   1459 non-null   object \n",
      " 13  Condition1     1459 non-null   object \n",
      " 14  Condition2     1459 non-null   object \n",
      " 15  BldgType       1459 non-null   object \n",
      " 16  HouseStyle     1459 non-null   object \n",
      " 17  OverallQual    1459 non-null   int64  \n",
      " 18  OverallCond    1459 non-null   int64  \n",
      " 19  YearBuilt      1459 non-null   int64  \n",
      " 20  YearRemodAdd   1459 non-null   int64  \n",
      " 21  RoofStyle      1459 non-null   object \n",
      " 22  RoofMatl       1459 non-null   object \n",
      " 23  Exterior1st    1458 non-null   object \n",
      " 24  Exterior2nd    1458 non-null   object \n",
      " 25  MasVnrType     565 non-null    object \n",
      " 26  MasVnrArea     1444 non-null   float64\n",
      " 27  ExterQual      1459 non-null   object \n",
      " 28  ExterCond      1459 non-null   object \n",
      " 29  Foundation     1459 non-null   object \n",
      " 30  BsmtQual       1415 non-null   object \n",
      " 31  BsmtCond       1414 non-null   object \n",
      " 32  BsmtExposure   1415 non-null   object \n",
      " 33  BsmtFinType1   1417 non-null   object \n",
      " 34  BsmtFinSF1     1458 non-null   float64\n",
      " 35  BsmtFinType2   1417 non-null   object \n",
      " 36  BsmtFinSF2     1458 non-null   float64\n",
      " 37  BsmtUnfSF      1458 non-null   float64\n",
      " 38  TotalBsmtSF    1458 non-null   float64\n",
      " 39  Heating        1459 non-null   object \n",
      " 40  HeatingQC      1459 non-null   object \n",
      " 41  CentralAir     1459 non-null   object \n",
      " 42  Electrical     1459 non-null   object \n",
      " 43  1stFlrSF       1459 non-null   int64  \n",
      " 44  2ndFlrSF       1459 non-null   int64  \n",
      " 45  LowQualFinSF   1459 non-null   int64  \n",
      " 46  GrLivArea      1459 non-null   int64  \n",
      " 47  BsmtFullBath   1457 non-null   float64\n",
      " 48  BsmtHalfBath   1457 non-null   float64\n",
      " 49  FullBath       1459 non-null   int64  \n",
      " 50  HalfBath       1459 non-null   int64  \n",
      " 51  BedroomAbvGr   1459 non-null   int64  \n",
      " 52  KitchenAbvGr   1459 non-null   int64  \n",
      " 53  KitchenQual    1458 non-null   object \n",
      " 54  TotRmsAbvGrd   1459 non-null   int64  \n",
      " 55  Functional     1457 non-null   object \n",
      " 56  Fireplaces     1459 non-null   int64  \n",
      " 57  FireplaceQu    729 non-null    object \n",
      " 58  GarageType     1383 non-null   object \n",
      " 59  GarageYrBlt    1381 non-null   float64\n",
      " 60  GarageFinish   1381 non-null   object \n",
      " 61  GarageCars     1458 non-null   float64\n",
      " 62  GarageArea     1458 non-null   float64\n",
      " 63  GarageQual     1381 non-null   object \n",
      " 64  GarageCond     1381 non-null   object \n",
      " 65  PavedDrive     1459 non-null   object \n",
      " 66  WoodDeckSF     1459 non-null   int64  \n",
      " 67  OpenPorchSF    1459 non-null   int64  \n",
      " 68  EnclosedPorch  1459 non-null   int64  \n",
      " 69  3SsnPorch      1459 non-null   int64  \n",
      " 70  ScreenPorch    1459 non-null   int64  \n",
      " 71  PoolArea       1459 non-null   int64  \n",
      " 72  PoolQC         3 non-null      object \n",
      " 73  Fence          290 non-null    object \n",
      " 74  MiscFeature    51 non-null     object \n",
      " 75  MiscVal        1459 non-null   int64  \n",
      " 76  MoSold         1459 non-null   int64  \n",
      " 77  YrSold         1459 non-null   int64  \n",
      " 78  SaleType       1458 non-null   object \n",
      " 79  SaleCondition  1459 non-null   object \n",
      "dtypes: float64(11), int64(26), object(43)\n",
      "memory usage: 912.0+ KB\n"
     ]
    }
   ],
   "source": [
    "df_test = pd.read_csv('/kaggle/input/home-data-for-ml-course/test.csv')\n",
    "df_test.info()\n",
    "test_ids = df_test['Id']"
   ]
  },
  {
   "cell_type": "code",
   "execution_count": 16,
   "id": "3331e8d3",
   "metadata": {
    "execution": {
     "iopub.execute_input": "2025-01-01T16:37:08.690729Z",
     "iopub.status.busy": "2025-01-01T16:37:08.690450Z",
     "iopub.status.idle": "2025-01-01T16:37:08.695013Z",
     "shell.execute_reply": "2025-01-01T16:37:08.694366Z"
    },
    "papermill": {
     "duration": 0.016666,
     "end_time": "2025-01-01T16:37:08.696454",
     "exception": false,
     "start_time": "2025-01-01T16:37:08.679788",
     "status": "completed"
    },
    "tags": []
   },
   "outputs": [],
   "source": [
    "df_test.drop(columns=['Id','Alley', 'MasVnrType', 'PoolQC', 'Fence', 'MiscFeature'], inplace=True)"
   ]
  },
  {
   "cell_type": "code",
   "execution_count": 17,
   "id": "dcb65c6b",
   "metadata": {
    "execution": {
     "iopub.execute_input": "2025-01-01T16:37:08.717187Z",
     "iopub.status.busy": "2025-01-01T16:37:08.716916Z",
     "iopub.status.idle": "2025-01-01T16:37:08.727255Z",
     "shell.execute_reply": "2025-01-01T16:37:08.726320Z"
    },
    "papermill": {
     "duration": 0.022183,
     "end_time": "2025-01-01T16:37:08.728594",
     "exception": false,
     "start_time": "2025-01-01T16:37:08.706411",
     "status": "completed"
    },
    "tags": []
   },
   "outputs": [],
   "source": [
    "df_test['LotFrontage'] = df_test['LotFrontage'].fillna(df_test['LotFrontage'].mean())\n",
    "df_test['MasVnrArea'] = df_test['MasVnrArea'].fillna(df_test['MasVnrArea'].mean())\n",
    "df_test['GarageYrBlt'] = df_test['GarageYrBlt'].fillna(df_test['GarageYrBlt'].mean())\n",
    "df_test['BsmtFinSF1'] = df_test['BsmtFinSF1'].fillna(df_test['BsmtFinSF1'].mean())\n",
    "df_test['TotalBsmtSF'] = df_test['TotalBsmtSF'].fillna(df_test['TotalBsmtSF'].mean())\n",
    "df_test['GarageCars'] = df_test['GarageCars'].fillna(df_test['GarageCars'].mean())\n",
    "df_test['GarageArea'] = df_test['GarageArea'].fillna(df_test['GarageArea'].mean())\n",
    "df_test['BsmtFinSF1'] = df_test['BsmtFinSF1'].fillna(df_test['BsmtFinSF1'].mean())\n",
    "df_test['BsmtUnfSF'] = df_test['BsmtUnfSF'].fillna(df_test['BsmtUnfSF'].mean())\n",
    "df_test['BsmtFullBath'] = df_test['BsmtFullBath'].fillna(df_test['BsmtFullBath'].mean())"
   ]
  },
  {
   "cell_type": "code",
   "execution_count": 18,
   "id": "75598719",
   "metadata": {
    "execution": {
     "iopub.execute_input": "2025-01-01T16:37:08.749249Z",
     "iopub.status.busy": "2025-01-01T16:37:08.749031Z",
     "iopub.status.idle": "2025-01-01T16:37:08.753756Z",
     "shell.execute_reply": "2025-01-01T16:37:08.752967Z"
    },
    "papermill": {
     "duration": 0.016427,
     "end_time": "2025-01-01T16:37:08.755068",
     "exception": false,
     "start_time": "2025-01-01T16:37:08.738641",
     "status": "completed"
    },
    "tags": []
   },
   "outputs": [],
   "source": [
    "columns_to_drop = [\n",
    "    'KitchenAbvGr', 'EnclosedPorch', 'MSSubClass', 'OverallCond', 'YrSold',\n",
    "    'LowQualFinSF', 'MiscVal', 'BsmtHalfBath', 'BsmtFinSF2', '3SsnPorch',\n",
    "    'MoSold', 'PoolArea', 'ScreenPorch', 'BedroomAbvGr'\n",
    "]\n",
    "\n",
    "df_test = df_test.drop(columns=columns_to_drop)\n"
   ]
  },
  {
   "cell_type": "code",
   "execution_count": 19,
   "id": "5687caa1",
   "metadata": {
    "execution": {
     "iopub.execute_input": "2025-01-01T16:37:08.775738Z",
     "iopub.status.busy": "2025-01-01T16:37:08.775447Z",
     "iopub.status.idle": "2025-01-01T16:37:08.796875Z",
     "shell.execute_reply": "2025-01-01T16:37:08.796056Z"
    },
    "papermill": {
     "duration": 0.033277,
     "end_time": "2025-01-01T16:37:08.798170",
     "exception": false,
     "start_time": "2025-01-01T16:37:08.764893",
     "status": "completed"
    },
    "tags": []
   },
   "outputs": [],
   "source": [
    "df_test['BsmtQual'] = df_test['BsmtQual'].fillna(df_test['BsmtQual'].mode()[0])\n",
    "df_test['BsmtCond'] = df_test['BsmtCond'].fillna(df_test['BsmtCond'].mode()[0])\n",
    "df_test['BsmtExposure'] = df_test['BsmtExposure'].fillna(df_test['BsmtExposure'].mode()[0])\n",
    "df_test['BsmtFinType1'] = df_test['BsmtFinType1'].fillna(df_test['BsmtFinType1'].mode()[0])\n",
    "df_test['BsmtFinType2'] = df_test['BsmtFinType2'].fillna(df_test['BsmtFinType2'].mode()[0])\n",
    "df_test['Electrical'] = df_test['Electrical'].fillna(df_test['Electrical'].mode()[0])\n",
    "df_test['GarageType'] = df_test['GarageType'].fillna(df_test['GarageType'].mode()[0])\n",
    "df_test['GarageFinish'] = df_test['GarageFinish'].fillna(df_test['GarageFinish'].mode()[0])\n",
    "df_test['GarageQual'] = df_test['GarageQual'].fillna(df_test['GarageQual'].mode()[0])\n",
    "df_test['GarageCond'] = df_test['GarageCond'].fillna(df_test['GarageCond'].mode()[0])\n",
    "df_test['MSZoning'] = df_test['MSZoning'].fillna(df_test['MSZoning'].mode()[0])\n",
    "df_test['Utilities'] = df_test['Utilities'].fillna(df_test['Utilities'].mode()[0])\n",
    "df_test['Exterior1st'] = df_test['Exterior1st'].fillna(df_test['Exterior1st'].mode()[0])\n",
    "df_test['Exterior2nd'] = df_test['Exterior2nd'].fillna(df_test['Exterior2nd'].mode()[0])\n",
    "df_test['KitchenQual'] = df_test['KitchenQual'].fillna(df_test['KitchenQual'].mode()[0])\n",
    "df_test['Functional'] = df_test['Functional'].fillna(df_test['Functional'].mode()[0])\n",
    "df_test['SaleType'] = df_test['SaleType'].fillna(df_test['SaleType'].mode()[0])\n",
    "df_test['FireplaceQu'] = df_test['FireplaceQu'].fillna(df_test['FireplaceQu'].mode()[0])"
   ]
  },
  {
   "cell_type": "code",
   "execution_count": 20,
   "id": "1d0c993f",
   "metadata": {
    "execution": {
     "iopub.execute_input": "2025-01-01T16:37:08.819151Z",
     "iopub.status.busy": "2025-01-01T16:37:08.818936Z",
     "iopub.status.idle": "2025-01-01T16:37:08.833066Z",
     "shell.execute_reply": "2025-01-01T16:37:08.832100Z"
    },
    "papermill": {
     "duration": 0.025904,
     "end_time": "2025-01-01T16:37:08.834323",
     "exception": false,
     "start_time": "2025-01-01T16:37:08.808419",
     "status": "completed"
    },
    "tags": []
   },
   "outputs": [
    {
     "name": "stdout",
     "output_type": "stream",
     "text": [
      "<class 'pandas.core.frame.DataFrame'>\n",
      "RangeIndex: 1459 entries, 0 to 1458\n",
      "Data columns (total 60 columns):\n",
      " #   Column         Non-Null Count  Dtype  \n",
      "---  ------         --------------  -----  \n",
      " 0   MSZoning       1459 non-null   object \n",
      " 1   LotFrontage    1459 non-null   float64\n",
      " 2   LotArea        1459 non-null   int64  \n",
      " 3   Street         1459 non-null   object \n",
      " 4   LotShape       1459 non-null   object \n",
      " 5   LandContour    1459 non-null   object \n",
      " 6   Utilities      1459 non-null   object \n",
      " 7   LotConfig      1459 non-null   object \n",
      " 8   LandSlope      1459 non-null   object \n",
      " 9   Neighborhood   1459 non-null   object \n",
      " 10  Condition1     1459 non-null   object \n",
      " 11  Condition2     1459 non-null   object \n",
      " 12  BldgType       1459 non-null   object \n",
      " 13  HouseStyle     1459 non-null   object \n",
      " 14  OverallQual    1459 non-null   int64  \n",
      " 15  YearBuilt      1459 non-null   int64  \n",
      " 16  YearRemodAdd   1459 non-null   int64  \n",
      " 17  RoofStyle      1459 non-null   object \n",
      " 18  RoofMatl       1459 non-null   object \n",
      " 19  Exterior1st    1459 non-null   object \n",
      " 20  Exterior2nd    1459 non-null   object \n",
      " 21  MasVnrArea     1459 non-null   float64\n",
      " 22  ExterQual      1459 non-null   object \n",
      " 23  ExterCond      1459 non-null   object \n",
      " 24  Foundation     1459 non-null   object \n",
      " 25  BsmtQual       1459 non-null   object \n",
      " 26  BsmtCond       1459 non-null   object \n",
      " 27  BsmtExposure   1459 non-null   object \n",
      " 28  BsmtFinType1   1459 non-null   object \n",
      " 29  BsmtFinSF1     1459 non-null   float64\n",
      " 30  BsmtFinType2   1459 non-null   object \n",
      " 31  BsmtUnfSF      1459 non-null   float64\n",
      " 32  TotalBsmtSF    1459 non-null   float64\n",
      " 33  Heating        1459 non-null   object \n",
      " 34  HeatingQC      1459 non-null   object \n",
      " 35  CentralAir     1459 non-null   object \n",
      " 36  Electrical     1459 non-null   object \n",
      " 37  1stFlrSF       1459 non-null   int64  \n",
      " 38  2ndFlrSF       1459 non-null   int64  \n",
      " 39  GrLivArea      1459 non-null   int64  \n",
      " 40  BsmtFullBath   1459 non-null   float64\n",
      " 41  FullBath       1459 non-null   int64  \n",
      " 42  HalfBath       1459 non-null   int64  \n",
      " 43  KitchenQual    1459 non-null   object \n",
      " 44  TotRmsAbvGrd   1459 non-null   int64  \n",
      " 45  Functional     1459 non-null   object \n",
      " 46  Fireplaces     1459 non-null   int64  \n",
      " 47  FireplaceQu    1459 non-null   object \n",
      " 48  GarageType     1459 non-null   object \n",
      " 49  GarageYrBlt    1459 non-null   float64\n",
      " 50  GarageFinish   1459 non-null   object \n",
      " 51  GarageCars     1459 non-null   float64\n",
      " 52  GarageArea     1459 non-null   float64\n",
      " 53  GarageQual     1459 non-null   object \n",
      " 54  GarageCond     1459 non-null   object \n",
      " 55  PavedDrive     1459 non-null   object \n",
      " 56  WoodDeckSF     1459 non-null   int64  \n",
      " 57  OpenPorchSF    1459 non-null   int64  \n",
      " 58  SaleType       1459 non-null   object \n",
      " 59  SaleCondition  1459 non-null   object \n",
      "dtypes: float64(9), int64(13), object(38)\n",
      "memory usage: 684.0+ KB\n"
     ]
    }
   ],
   "source": [
    "df_test.info()"
   ]
  },
  {
   "cell_type": "code",
   "execution_count": 21,
   "id": "d3907888",
   "metadata": {
    "execution": {
     "iopub.execute_input": "2025-01-01T16:37:08.856384Z",
     "iopub.status.busy": "2025-01-01T16:37:08.856054Z",
     "iopub.status.idle": "2025-01-01T16:37:08.863993Z",
     "shell.execute_reply": "2025-01-01T16:37:08.863007Z"
    },
    "papermill": {
     "duration": 0.020109,
     "end_time": "2025-01-01T16:37:08.865447",
     "exception": false,
     "start_time": "2025-01-01T16:37:08.845338",
     "status": "completed"
    },
    "tags": []
   },
   "outputs": [
    {
     "name": "stdout",
     "output_type": "stream",
     "text": [
      "Categorical Columns: ['MSZoning', 'Street', 'LotShape', 'LandContour', 'Utilities', 'LotConfig', 'LandSlope', 'Neighborhood', 'Condition1', 'Condition2', 'BldgType', 'HouseStyle', 'RoofStyle', 'RoofMatl', 'Exterior1st', 'Exterior2nd', 'ExterQual', 'ExterCond', 'Foundation', 'BsmtQual', 'BsmtCond', 'BsmtExposure', 'BsmtFinType1', 'BsmtFinType2', 'Heating', 'HeatingQC', 'CentralAir', 'Electrical', 'KitchenQual', 'Functional', 'FireplaceQu', 'GarageType', 'GarageFinish', 'GarageQual', 'GarageCond', 'PavedDrive', 'SaleType', 'SaleCondition']\n"
     ]
    }
   ],
   "source": [
    "categorical_columns = df.select_dtypes(include=['object', 'category']).columns\n",
    "categorical_data = df[categorical_columns]\n",
    "print(\"Categorical Columns:\", categorical_columns.tolist())"
   ]
  },
  {
   "cell_type": "code",
   "execution_count": 22,
   "id": "bd002b27",
   "metadata": {
    "execution": {
     "iopub.execute_input": "2025-01-01T16:37:08.886689Z",
     "iopub.status.busy": "2025-01-01T16:37:08.886399Z",
     "iopub.status.idle": "2025-01-01T16:37:08.891861Z",
     "shell.execute_reply": "2025-01-01T16:37:08.891062Z"
    },
    "papermill": {
     "duration": 0.017589,
     "end_time": "2025-01-01T16:37:08.893197",
     "exception": false,
     "start_time": "2025-01-01T16:37:08.875608",
     "status": "completed"
    },
    "tags": []
   },
   "outputs": [],
   "source": [
    "df_test_copy = df_test.copy()"
   ]
  },
  {
   "cell_type": "code",
   "execution_count": 23,
   "id": "810659da",
   "metadata": {
    "execution": {
     "iopub.execute_input": "2025-01-01T16:37:08.916449Z",
     "iopub.status.busy": "2025-01-01T16:37:08.916141Z",
     "iopub.status.idle": "2025-01-01T16:37:08.943170Z",
     "shell.execute_reply": "2025-01-01T16:37:08.942324Z"
    },
    "papermill": {
     "duration": 0.040738,
     "end_time": "2025-01-01T16:37:08.944707",
     "exception": false,
     "start_time": "2025-01-01T16:37:08.903969",
     "status": "completed"
    },
    "tags": []
   },
   "outputs": [],
   "source": [
    "df_test.to_csv('Processed_test', index=False)"
   ]
  },
  {
   "cell_type": "code",
   "execution_count": 24,
   "id": "2da4fd12",
   "metadata": {
    "execution": {
     "iopub.execute_input": "2025-01-01T16:37:08.966333Z",
     "iopub.status.busy": "2025-01-01T16:37:08.966014Z",
     "iopub.status.idle": "2025-01-01T16:37:08.983968Z",
     "shell.execute_reply": "2025-01-01T16:37:08.983066Z"
    },
    "papermill": {
     "duration": 0.030486,
     "end_time": "2025-01-01T16:37:08.985573",
     "exception": false,
     "start_time": "2025-01-01T16:37:08.955087",
     "status": "completed"
    },
    "tags": []
   },
   "outputs": [],
   "source": [
    "df_test_csv = pd.read_csv('/kaggle/working/Processed_test')"
   ]
  },
  {
   "cell_type": "code",
   "execution_count": 25,
   "id": "e53cc44d",
   "metadata": {
    "execution": {
     "iopub.execute_input": "2025-01-01T16:37:09.007130Z",
     "iopub.status.busy": "2025-01-01T16:37:09.006864Z",
     "iopub.status.idle": "2025-01-01T16:37:09.011425Z",
     "shell.execute_reply": "2025-01-01T16:37:09.010572Z"
    },
    "papermill": {
     "duration": 0.017477,
     "end_time": "2025-01-01T16:37:09.013378",
     "exception": false,
     "start_time": "2025-01-01T16:37:08.995901",
     "status": "completed"
    },
    "tags": []
   },
   "outputs": [
    {
     "data": {
      "text/plain": [
       "(1459, 60)"
      ]
     },
     "execution_count": 25,
     "metadata": {},
     "output_type": "execute_result"
    }
   ],
   "source": [
    "df_test_csv.shape"
   ]
  },
  {
   "cell_type": "code",
   "execution_count": 26,
   "id": "5927acfc",
   "metadata": {
    "execution": {
     "iopub.execute_input": "2025-01-01T16:37:09.037038Z",
     "iopub.status.busy": "2025-01-01T16:37:09.036818Z",
     "iopub.status.idle": "2025-01-01T16:37:09.044283Z",
     "shell.execute_reply": "2025-01-01T16:37:09.043565Z"
    },
    "papermill": {
     "duration": 0.020083,
     "end_time": "2025-01-01T16:37:09.045698",
     "exception": false,
     "start_time": "2025-01-01T16:37:09.025615",
     "status": "completed"
    },
    "tags": []
   },
   "outputs": [],
   "source": [
    "df_train['is_train'] = 1\n",
    "df_test['is_train'] = 0 \n",
    "final_df = pd.concat([df_test,df_train],axis=0)"
   ]
  },
  {
   "cell_type": "code",
   "execution_count": 27,
   "id": "b43a1c76",
   "metadata": {
    "execution": {
     "iopub.execute_input": "2025-01-01T16:37:09.067132Z",
     "iopub.status.busy": "2025-01-01T16:37:09.066897Z",
     "iopub.status.idle": "2025-01-01T16:37:09.085443Z",
     "shell.execute_reply": "2025-01-01T16:37:09.084206Z"
    },
    "papermill": {
     "duration": 0.031016,
     "end_time": "2025-01-01T16:37:09.086989",
     "exception": false,
     "start_time": "2025-01-01T16:37:09.055973",
     "status": "completed"
    },
    "tags": []
   },
   "outputs": [
    {
     "name": "stdout",
     "output_type": "stream",
     "text": [
      "<class 'pandas.core.frame.DataFrame'>\n",
      "Index: 2919 entries, 0 to 1459\n",
      "Data columns (total 62 columns):\n",
      " #   Column         Non-Null Count  Dtype  \n",
      "---  ------         --------------  -----  \n",
      " 0   MSZoning       2919 non-null   object \n",
      " 1   LotFrontage    2919 non-null   float64\n",
      " 2   LotArea        2919 non-null   int64  \n",
      " 3   Street         2919 non-null   object \n",
      " 4   LotShape       2919 non-null   object \n",
      " 5   LandContour    2919 non-null   object \n",
      " 6   Utilities      2919 non-null   object \n",
      " 7   LotConfig      2919 non-null   object \n",
      " 8   LandSlope      2919 non-null   object \n",
      " 9   Neighborhood   2919 non-null   object \n",
      " 10  Condition1     2919 non-null   object \n",
      " 11  Condition2     2919 non-null   object \n",
      " 12  BldgType       2919 non-null   object \n",
      " 13  HouseStyle     2919 non-null   object \n",
      " 14  OverallQual    2919 non-null   int64  \n",
      " 15  YearBuilt      2919 non-null   int64  \n",
      " 16  YearRemodAdd   2919 non-null   int64  \n",
      " 17  RoofStyle      2919 non-null   object \n",
      " 18  RoofMatl       2919 non-null   object \n",
      " 19  Exterior1st    2919 non-null   object \n",
      " 20  Exterior2nd    2919 non-null   object \n",
      " 21  MasVnrArea     2919 non-null   float64\n",
      " 22  ExterQual      2919 non-null   object \n",
      " 23  ExterCond      2919 non-null   object \n",
      " 24  Foundation     2919 non-null   object \n",
      " 25  BsmtQual       2919 non-null   object \n",
      " 26  BsmtCond       2919 non-null   object \n",
      " 27  BsmtExposure   2919 non-null   object \n",
      " 28  BsmtFinType1   2919 non-null   object \n",
      " 29  BsmtFinSF1     2919 non-null   float64\n",
      " 30  BsmtFinType2   2919 non-null   object \n",
      " 31  BsmtUnfSF      2919 non-null   float64\n",
      " 32  TotalBsmtSF    2919 non-null   float64\n",
      " 33  Heating        2919 non-null   object \n",
      " 34  HeatingQC      2919 non-null   object \n",
      " 35  CentralAir     2919 non-null   object \n",
      " 36  Electrical     2919 non-null   object \n",
      " 37  1stFlrSF       2919 non-null   int64  \n",
      " 38  2ndFlrSF       2919 non-null   int64  \n",
      " 39  GrLivArea      2919 non-null   int64  \n",
      " 40  BsmtFullBath   2919 non-null   float64\n",
      " 41  FullBath       2919 non-null   int64  \n",
      " 42  HalfBath       2919 non-null   int64  \n",
      " 43  KitchenQual    2919 non-null   object \n",
      " 44  TotRmsAbvGrd   2919 non-null   int64  \n",
      " 45  Functional     2919 non-null   object \n",
      " 46  Fireplaces     2919 non-null   int64  \n",
      " 47  FireplaceQu    2919 non-null   object \n",
      " 48  GarageType     2919 non-null   object \n",
      " 49  GarageYrBlt    2919 non-null   float64\n",
      " 50  GarageFinish   2919 non-null   object \n",
      " 51  GarageCars     2919 non-null   float64\n",
      " 52  GarageArea     2919 non-null   float64\n",
      " 53  GarageQual     2919 non-null   object \n",
      " 54  GarageCond     2919 non-null   object \n",
      " 55  PavedDrive     2919 non-null   object \n",
      " 56  WoodDeckSF     2919 non-null   int64  \n",
      " 57  OpenPorchSF    2919 non-null   int64  \n",
      " 58  SaleType       2919 non-null   object \n",
      " 59  SaleCondition  2919 non-null   object \n",
      " 60  is_train       2919 non-null   int64  \n",
      " 61  SalePrice      1460 non-null   float64\n",
      "dtypes: float64(10), int64(14), object(38)\n",
      "memory usage: 1.4+ MB\n"
     ]
    }
   ],
   "source": [
    "final_df.info()"
   ]
  },
  {
   "cell_type": "code",
   "execution_count": 28,
   "id": "e8f6bd4d",
   "metadata": {
    "execution": {
     "iopub.execute_input": "2025-01-01T16:37:09.110264Z",
     "iopub.status.busy": "2025-01-01T16:37:09.109947Z",
     "iopub.status.idle": "2025-01-01T16:37:09.155800Z",
     "shell.execute_reply": "2025-01-01T16:37:09.154692Z"
    },
    "papermill": {
     "duration": 0.060062,
     "end_time": "2025-01-01T16:37:09.157680",
     "exception": false,
     "start_time": "2025-01-01T16:37:09.097618",
     "status": "completed"
    },
    "tags": []
   },
   "outputs": [],
   "source": [
    "categorical_columns = ['MSZoning', 'Street', 'LotShape', 'LandContour', 'Utilities', \n",
    "                       'LotConfig', 'LandSlope', 'Neighborhood', 'Condition1', 'Condition2', \n",
    "                       'BldgType', 'HouseStyle', 'RoofStyle', 'RoofMatl', 'Exterior1st', \n",
    "                       'Exterior2nd', 'ExterQual', 'ExterCond', 'Foundation', 'BsmtQual', \n",
    "                       'BsmtCond', 'BsmtExposure', 'BsmtFinType1', 'BsmtFinType2', 'Heating', \n",
    "                       'HeatingQC', 'CentralAir', 'Electrical', 'KitchenQual', 'Functional', \n",
    "                       'FireplaceQu', 'GarageType', 'GarageFinish', 'GarageQual', \n",
    "                       'GarageCond', 'PavedDrive', 'SaleType', 'SaleCondition']\n",
    "\n",
    "# Apply one-hot encoding\n",
    "final_df_encoded = pd.get_dummies(final_df, columns=categorical_columns, drop_first=True)\n"
   ]
  },
  {
   "cell_type": "code",
   "execution_count": 29,
   "id": "5106fbe4",
   "metadata": {
    "execution": {
     "iopub.execute_input": "2025-01-01T16:37:09.179793Z",
     "iopub.status.busy": "2025-01-01T16:37:09.179503Z",
     "iopub.status.idle": "2025-01-01T16:37:09.190702Z",
     "shell.execute_reply": "2025-01-01T16:37:09.189804Z"
    },
    "papermill": {
     "duration": 0.023737,
     "end_time": "2025-01-01T16:37:09.192166",
     "exception": false,
     "start_time": "2025-01-01T16:37:09.168429",
     "status": "completed"
    },
    "tags": []
   },
   "outputs": [],
   "source": [
    "# Split back into train and test data\n",
    "train_encoded = final_df_encoded[final_df_encoded['is_train'] == 1].drop(columns=['is_train'])\n",
    "test_encoded = final_df_encoded[final_df_encoded['is_train'] == 0].drop(columns=['is_train'])\n"
   ]
  },
  {
   "cell_type": "code",
   "execution_count": 30,
   "id": "dc42a253",
   "metadata": {
    "execution": {
     "iopub.execute_input": "2025-01-01T16:37:09.215548Z",
     "iopub.status.busy": "2025-01-01T16:37:09.215267Z",
     "iopub.status.idle": "2025-01-01T16:37:09.234632Z",
     "shell.execute_reply": "2025-01-01T16:37:09.233934Z"
    },
    "papermill": {
     "duration": 0.032358,
     "end_time": "2025-01-01T16:37:09.235960",
     "exception": false,
     "start_time": "2025-01-01T16:37:09.203602",
     "status": "completed"
    },
    "tags": []
   },
   "outputs": [
    {
     "data": {
      "text/html": [
       "<div>\n",
       "<style scoped>\n",
       "    .dataframe tbody tr th:only-of-type {\n",
       "        vertical-align: middle;\n",
       "    }\n",
       "\n",
       "    .dataframe tbody tr th {\n",
       "        vertical-align: top;\n",
       "    }\n",
       "\n",
       "    .dataframe thead th {\n",
       "        text-align: right;\n",
       "    }\n",
       "</style>\n",
       "<table border=\"1\" class=\"dataframe\">\n",
       "  <thead>\n",
       "    <tr style=\"text-align: right;\">\n",
       "      <th></th>\n",
       "      <th>LotFrontage</th>\n",
       "      <th>LotArea</th>\n",
       "      <th>OverallQual</th>\n",
       "      <th>YearBuilt</th>\n",
       "      <th>YearRemodAdd</th>\n",
       "      <th>MasVnrArea</th>\n",
       "      <th>BsmtFinSF1</th>\n",
       "      <th>BsmtUnfSF</th>\n",
       "      <th>TotalBsmtSF</th>\n",
       "      <th>1stFlrSF</th>\n",
       "      <th>...</th>\n",
       "      <th>SaleType_ConLI</th>\n",
       "      <th>SaleType_ConLw</th>\n",
       "      <th>SaleType_New</th>\n",
       "      <th>SaleType_Oth</th>\n",
       "      <th>SaleType_WD</th>\n",
       "      <th>SaleCondition_AdjLand</th>\n",
       "      <th>SaleCondition_Alloca</th>\n",
       "      <th>SaleCondition_Family</th>\n",
       "      <th>SaleCondition_Normal</th>\n",
       "      <th>SaleCondition_Partial</th>\n",
       "    </tr>\n",
       "  </thead>\n",
       "  <tbody>\n",
       "    <tr>\n",
       "      <th>0</th>\n",
       "      <td>65.0</td>\n",
       "      <td>8450</td>\n",
       "      <td>7</td>\n",
       "      <td>2003</td>\n",
       "      <td>2003</td>\n",
       "      <td>196.0</td>\n",
       "      <td>706.0</td>\n",
       "      <td>150.0</td>\n",
       "      <td>856.0</td>\n",
       "      <td>856</td>\n",
       "      <td>...</td>\n",
       "      <td>False</td>\n",
       "      <td>False</td>\n",
       "      <td>False</td>\n",
       "      <td>False</td>\n",
       "      <td>True</td>\n",
       "      <td>False</td>\n",
       "      <td>False</td>\n",
       "      <td>False</td>\n",
       "      <td>True</td>\n",
       "      <td>False</td>\n",
       "    </tr>\n",
       "    <tr>\n",
       "      <th>1</th>\n",
       "      <td>80.0</td>\n",
       "      <td>9600</td>\n",
       "      <td>6</td>\n",
       "      <td>1976</td>\n",
       "      <td>1976</td>\n",
       "      <td>0.0</td>\n",
       "      <td>978.0</td>\n",
       "      <td>284.0</td>\n",
       "      <td>1262.0</td>\n",
       "      <td>1262</td>\n",
       "      <td>...</td>\n",
       "      <td>False</td>\n",
       "      <td>False</td>\n",
       "      <td>False</td>\n",
       "      <td>False</td>\n",
       "      <td>True</td>\n",
       "      <td>False</td>\n",
       "      <td>False</td>\n",
       "      <td>False</td>\n",
       "      <td>True</td>\n",
       "      <td>False</td>\n",
       "    </tr>\n",
       "    <tr>\n",
       "      <th>2</th>\n",
       "      <td>68.0</td>\n",
       "      <td>11250</td>\n",
       "      <td>7</td>\n",
       "      <td>2001</td>\n",
       "      <td>2002</td>\n",
       "      <td>162.0</td>\n",
       "      <td>486.0</td>\n",
       "      <td>434.0</td>\n",
       "      <td>920.0</td>\n",
       "      <td>920</td>\n",
       "      <td>...</td>\n",
       "      <td>False</td>\n",
       "      <td>False</td>\n",
       "      <td>False</td>\n",
       "      <td>False</td>\n",
       "      <td>True</td>\n",
       "      <td>False</td>\n",
       "      <td>False</td>\n",
       "      <td>False</td>\n",
       "      <td>True</td>\n",
       "      <td>False</td>\n",
       "    </tr>\n",
       "    <tr>\n",
       "      <th>3</th>\n",
       "      <td>60.0</td>\n",
       "      <td>9550</td>\n",
       "      <td>7</td>\n",
       "      <td>1915</td>\n",
       "      <td>1970</td>\n",
       "      <td>0.0</td>\n",
       "      <td>216.0</td>\n",
       "      <td>540.0</td>\n",
       "      <td>756.0</td>\n",
       "      <td>961</td>\n",
       "      <td>...</td>\n",
       "      <td>False</td>\n",
       "      <td>False</td>\n",
       "      <td>False</td>\n",
       "      <td>False</td>\n",
       "      <td>True</td>\n",
       "      <td>False</td>\n",
       "      <td>False</td>\n",
       "      <td>False</td>\n",
       "      <td>False</td>\n",
       "      <td>False</td>\n",
       "    </tr>\n",
       "    <tr>\n",
       "      <th>4</th>\n",
       "      <td>84.0</td>\n",
       "      <td>14260</td>\n",
       "      <td>8</td>\n",
       "      <td>2000</td>\n",
       "      <td>2000</td>\n",
       "      <td>350.0</td>\n",
       "      <td>655.0</td>\n",
       "      <td>490.0</td>\n",
       "      <td>1145.0</td>\n",
       "      <td>1145</td>\n",
       "      <td>...</td>\n",
       "      <td>False</td>\n",
       "      <td>False</td>\n",
       "      <td>False</td>\n",
       "      <td>False</td>\n",
       "      <td>True</td>\n",
       "      <td>False</td>\n",
       "      <td>False</td>\n",
       "      <td>False</td>\n",
       "      <td>True</td>\n",
       "      <td>False</td>\n",
       "    </tr>\n",
       "  </tbody>\n",
       "</table>\n",
       "<p>5 rows × 220 columns</p>\n",
       "</div>"
      ],
      "text/plain": [
       "   LotFrontage  LotArea  OverallQual  YearBuilt  YearRemodAdd  MasVnrArea  \\\n",
       "0         65.0     8450            7       2003          2003       196.0   \n",
       "1         80.0     9600            6       1976          1976         0.0   \n",
       "2         68.0    11250            7       2001          2002       162.0   \n",
       "3         60.0     9550            7       1915          1970         0.0   \n",
       "4         84.0    14260            8       2000          2000       350.0   \n",
       "\n",
       "   BsmtFinSF1  BsmtUnfSF  TotalBsmtSF  1stFlrSF  ...  SaleType_ConLI  \\\n",
       "0       706.0      150.0        856.0       856  ...           False   \n",
       "1       978.0      284.0       1262.0      1262  ...           False   \n",
       "2       486.0      434.0        920.0       920  ...           False   \n",
       "3       216.0      540.0        756.0       961  ...           False   \n",
       "4       655.0      490.0       1145.0      1145  ...           False   \n",
       "\n",
       "   SaleType_ConLw  SaleType_New  SaleType_Oth  SaleType_WD  \\\n",
       "0           False         False         False         True   \n",
       "1           False         False         False         True   \n",
       "2           False         False         False         True   \n",
       "3           False         False         False         True   \n",
       "4           False         False         False         True   \n",
       "\n",
       "   SaleCondition_AdjLand  SaleCondition_Alloca  SaleCondition_Family  \\\n",
       "0                  False                 False                 False   \n",
       "1                  False                 False                 False   \n",
       "2                  False                 False                 False   \n",
       "3                  False                 False                 False   \n",
       "4                  False                 False                 False   \n",
       "\n",
       "   SaleCondition_Normal  SaleCondition_Partial  \n",
       "0                  True                  False  \n",
       "1                  True                  False  \n",
       "2                  True                  False  \n",
       "3                 False                  False  \n",
       "4                  True                  False  \n",
       "\n",
       "[5 rows x 220 columns]"
      ]
     },
     "execution_count": 30,
     "metadata": {},
     "output_type": "execute_result"
    }
   ],
   "source": [
    "train_encoded.head()"
   ]
  },
  {
   "cell_type": "code",
   "execution_count": 31,
   "id": "c06b8879",
   "metadata": {
    "execution": {
     "iopub.execute_input": "2025-01-01T16:37:09.258884Z",
     "iopub.status.busy": "2025-01-01T16:37:09.258581Z",
     "iopub.status.idle": "2025-01-01T16:37:09.435192Z",
     "shell.execute_reply": "2025-01-01T16:37:09.434088Z"
    },
    "papermill": {
     "duration": 0.190016,
     "end_time": "2025-01-01T16:37:09.436775",
     "exception": false,
     "start_time": "2025-01-01T16:37:09.246759",
     "status": "completed"
    },
    "tags": []
   },
   "outputs": [
    {
     "name": "stdout",
     "output_type": "stream",
     "text": [
      "Dropped columns: ['MSZoning_FV', 'MSZoning_RH', 'Street_Pave', 'LotShape_IR2', 'LotShape_IR3', 'LandContour_HLS', 'LandContour_Low', 'LandContour_Lvl', 'Utilities_NoSeWa', 'LotConfig_CulDSac', 'LotConfig_FR2', 'LotConfig_FR3', 'LotConfig_Inside', 'LandSlope_Mod', 'LandSlope_Sev', 'Neighborhood_Blueste', 'Neighborhood_BrDale', 'Neighborhood_BrkSide', 'Neighborhood_ClearCr', 'Neighborhood_CollgCr', 'Neighborhood_Crawfor', 'Neighborhood_Edwards', 'Neighborhood_Gilbert', 'Neighborhood_IDOTRR', 'Neighborhood_MeadowV', 'Neighborhood_Mitchel', 'Neighborhood_NAmes', 'Neighborhood_NPkVill', 'Neighborhood_NWAmes', 'Neighborhood_OldTown', 'Neighborhood_SWISU', 'Neighborhood_Sawyer', 'Neighborhood_SawyerW', 'Neighborhood_Somerst', 'Neighborhood_Timber', 'Neighborhood_Veenker', 'Condition1_Feedr', 'Condition1_Norm', 'Condition1_PosA', 'Condition1_PosN', 'Condition1_RRAe', 'Condition1_RRAn', 'Condition1_RRNe', 'Condition1_RRNn', 'Condition2_Feedr', 'Condition2_Norm', 'Condition2_PosA', 'Condition2_PosN', 'Condition2_RRAe', 'Condition2_RRAn', 'Condition2_RRNn', 'BldgType_2fmCon', 'BldgType_Duplex', 'BldgType_Twnhs', 'BldgType_TwnhsE', 'HouseStyle_1.5Unf', 'HouseStyle_1Story', 'HouseStyle_2.5Fin', 'HouseStyle_2.5Unf', 'HouseStyle_SFoyer', 'HouseStyle_SLvl', 'RoofStyle_Gambrel', 'RoofStyle_Mansard', 'RoofStyle_Shed', 'RoofMatl_CompShg', 'RoofMatl_Membran', 'RoofMatl_Metal', 'RoofMatl_Roll', 'RoofMatl_Tar&Grv', 'RoofMatl_WdShake', 'RoofMatl_WdShngl', 'Exterior1st_AsphShn', 'Exterior1st_BrkComm', 'Exterior1st_BrkFace', 'Exterior1st_CBlock', 'Exterior1st_CemntBd', 'Exterior1st_HdBoard', 'Exterior1st_ImStucc', 'Exterior1st_MetalSd', 'Exterior1st_Plywood', 'Exterior1st_Stone', 'Exterior1st_Stucco', 'Exterior1st_Wd Sdng', 'Exterior1st_WdShing', 'Exterior2nd_AsphShn', 'Exterior2nd_Brk Cmn', 'Exterior2nd_BrkFace', 'Exterior2nd_CBlock', 'Exterior2nd_CmentBd', 'Exterior2nd_HdBoard', 'Exterior2nd_ImStucc', 'Exterior2nd_MetalSd', 'Exterior2nd_Other', 'Exterior2nd_Plywood', 'Exterior2nd_Stone', 'Exterior2nd_Stucco', 'Exterior2nd_Wd Sdng', 'Exterior2nd_Wd Shng', 'ExterQual_Fa', 'ExterCond_Fa', 'ExterCond_Gd', 'ExterCond_Po', 'ExterCond_TA', 'Foundation_Slab', 'Foundation_Stone', 'Foundation_Wood', 'BsmtQual_Fa', 'BsmtCond_Gd', 'BsmtCond_Po', 'BsmtCond_TA', 'BsmtExposure_Mn', 'BsmtFinType1_BLQ', 'BsmtFinType1_LwQ', 'BsmtFinType1_Rec', 'BsmtFinType1_Unf', 'BsmtFinType2_BLQ', 'BsmtFinType2_GLQ', 'BsmtFinType2_LwQ', 'BsmtFinType2_Rec', 'BsmtFinType2_Unf', 'Heating_GasA', 'Heating_GasW', 'Heating_Grav', 'Heating_OthW', 'Heating_Wall', 'HeatingQC_Fa', 'HeatingQC_Gd', 'HeatingQC_Po', 'Electrical_FuseF', 'Electrical_FuseP', 'Electrical_Mix', 'KitchenQual_Fa', 'Functional_Maj2', 'Functional_Min1', 'Functional_Min2', 'Functional_Mod', 'Functional_Sev', 'Functional_Typ', 'FireplaceQu_Fa', 'FireplaceQu_Gd', 'FireplaceQu_Po', 'FireplaceQu_TA', 'GarageType_Basment', 'GarageType_CarPort', 'GarageFinish_RFn', 'GarageQual_Fa', 'GarageQual_Gd', 'GarageQual_Po', 'GarageQual_TA', 'GarageCond_Fa', 'GarageCond_Gd', 'GarageCond_Po', 'GarageCond_TA', 'PavedDrive_P', 'SaleType_CWD', 'SaleType_Con', 'SaleType_ConLD', 'SaleType_ConLI', 'SaleType_ConLw', 'SaleType_Oth', 'SaleCondition_AdjLand', 'SaleCondition_Alloca', 'SaleCondition_Family', 'SaleCondition_Normal']\n"
     ]
    }
   ],
   "source": [
    "# Compute the correlation matrix\n",
    "cf = train_encoded.corr()\n",
    "\n",
    "# Extract correlations with the target variable 'SalePrice'\n",
    "correlation_with_target = cf['SalePrice']\n",
    "\n",
    "# Identify columns to drop (absolute correlation < 0.2)\n",
    "columns_to_drop = correlation_with_target[correlation_with_target.abs() < 0.2].index\n",
    "\n",
    "# Print the names of the dropped columns\n",
    "print(\"Dropped columns:\", list(columns_to_drop))\n",
    "\n",
    "# Drop the identified columns from the dataset\n",
    "#train_encoded_filtered = train_encoded.drop(columns=columns_to_drop)\n",
    "\n",
    "# Display the remaining columns\n",
    "#print(\"Remaining columns:\", train_encoded_filtered.columns)\n",
    "\n"
   ]
  },
  {
   "cell_type": "code",
   "execution_count": 32,
   "id": "b7ae61f8",
   "metadata": {
    "execution": {
     "iopub.execute_input": "2025-01-01T16:37:09.459017Z",
     "iopub.status.busy": "2025-01-01T16:37:09.458750Z",
     "iopub.status.idle": "2025-01-01T16:37:09.463244Z",
     "shell.execute_reply": "2025-01-01T16:37:09.462467Z"
    },
    "papermill": {
     "duration": 0.016852,
     "end_time": "2025-01-01T16:37:09.464608",
     "exception": false,
     "start_time": "2025-01-01T16:37:09.447756",
     "status": "completed"
    },
    "tags": []
   },
   "outputs": [
    {
     "data": {
      "text/plain": [
       "(1460, 220)"
      ]
     },
     "execution_count": 32,
     "metadata": {},
     "output_type": "execute_result"
    }
   ],
   "source": [
    "train_encoded.shape"
   ]
  },
  {
   "cell_type": "code",
   "execution_count": 33,
   "id": "58b83763",
   "metadata": {
    "execution": {
     "iopub.execute_input": "2025-01-01T16:37:09.487010Z",
     "iopub.status.busy": "2025-01-01T16:37:09.486756Z",
     "iopub.status.idle": "2025-01-01T16:37:09.492444Z",
     "shell.execute_reply": "2025-01-01T16:37:09.491607Z"
    },
    "papermill": {
     "duration": 0.018448,
     "end_time": "2025-01-01T16:37:09.493783",
     "exception": false,
     "start_time": "2025-01-01T16:37:09.475335",
     "status": "completed"
    },
    "tags": []
   },
   "outputs": [],
   "source": [
    "droped_col = ['MSZoning_FV', 'MSZoning_RH', 'Street_Pave', 'LotShape_IR3', 'LandContour_Low', \n",
    "              'LandContour_Lvl', 'Utilities_NoSeWa', 'LotConfig_FR2', 'LotConfig_FR3', \n",
    "              'LotConfig_Inside', 'LandSlope_Mod', 'LandSlope_Sev', 'Neighborhood_Blueste', \n",
    "              'Neighborhood_ClearCr', 'Neighborhood_CollgCr', 'Neighborhood_Crawfor', \n",
    "              'Neighborhood_Gilbert', 'Neighborhood_Mitchel', 'Neighborhood_NPkVill', \n",
    "              'Neighborhood_NWAmes', 'Neighborhood_SWISU', 'Neighborhood_SawyerW', \n",
    "              'Neighborhood_Veenker', 'Condition1_PosA', 'Condition1_PosN', 'Condition1_RRAe', \n",
    "              'Condition1_RRAn', 'Condition1_RRNe', 'Condition1_RRNn', 'Condition2_Feedr', \n",
    "              'Condition2_Norm', 'Condition2_PosA', 'Condition2_PosN', 'Condition2_RRAe', \n",
    "              'Condition2_RRAn', 'Condition2_RRNn', 'BldgType_2fmCon', 'BldgType_Twnhs', \n",
    "              'BldgType_TwnhsE', 'HouseStyle_1.5Unf', 'HouseStyle_1Story', 'HouseStyle_2.5Fin', \n",
    "              'HouseStyle_2.5Unf', 'HouseStyle_SFoyer', 'HouseStyle_SLvl', 'RoofStyle_Gambrel', \n",
    "              'RoofStyle_Mansard', 'RoofStyle_Shed', 'RoofMatl_Membran', 'RoofMatl_Metal', \n",
    "              'RoofMatl_Roll', 'RoofMatl_Tar&Grv', 'RoofMatl_WdShake', 'Exterior1st_AsphShn', \n",
    "              'Exterior1st_BrkComm', 'Exterior1st_BrkFace', 'Exterior1st_CBlock', \n",
    "              'Exterior1st_HdBoard', 'Exterior1st_ImStucc', 'Exterior1st_Plywood', \n",
    "              'Exterior1st_Stone', 'Exterior1st_Stucco', 'Exterior1st_WdShing', \n",
    "              'Exterior2nd_AsphShn', 'Exterior2nd_Brk Cmn', 'Exterior2nd_BrkFace', \n",
    "              'Exterior2nd_CBlock', 'Exterior2nd_HdBoard', 'Exterior2nd_ImStucc', \n",
    "              'Exterior2nd_Other', 'Exterior2nd_Plywood', 'Exterior2nd_Stone', \n",
    "              'Exterior2nd_Stucco', 'Exterior2nd_Wd Shng', 'ExterCond_Gd', 'ExterCond_Po', \n",
    "              'Foundation_Stone', 'Foundation_Wood', 'BsmtCond_Gd', 'BsmtCond_Po', 'BsmtCond_TA', \n",
    "              'BsmtExposure_Mn', 'BsmtFinType1_LwQ', 'BsmtFinType2_BLQ', 'BsmtFinType2_GLQ', \n",
    "              'BsmtFinType2_LwQ', 'BsmtFinType2_Rec', 'BsmtFinType2_Unf', 'Heating_GasA', \n",
    "              'Heating_GasW', 'Heating_Grav', 'Heating_OthW', 'Heating_Wall', 'HeatingQC_Po', \n",
    "              'Electrical_FuseP', 'Electrical_Mix', 'Functional_Maj2', 'Functional_Min1', \n",
    "              'Functional_Min2', 'Functional_Mod', 'Functional_Sev', 'GarageType_Basment', \n",
    "              'GarageType_CarPort', 'GarageQual_Gd', 'GarageQual_Po', 'GarageQual_TA', \n",
    "              'GarageCond_Gd', 'GarageCond_Po', 'PavedDrive_P', 'SaleType_CWD', 'SaleType_Con', \n",
    "              'SaleType_ConLD', 'SaleType_ConLI', 'SaleType_ConLw', 'SaleType_Oth', \n",
    "              'SaleCondition_AdjLand', 'SaleCondition_Alloca', 'SaleCondition_Family']"
   ]
  },
  {
   "cell_type": "code",
   "execution_count": 34,
   "id": "f23d64d4",
   "metadata": {
    "execution": {
     "iopub.execute_input": "2025-01-01T16:37:09.516211Z",
     "iopub.status.busy": "2025-01-01T16:37:09.515936Z",
     "iopub.status.idle": "2025-01-01T16:37:09.518998Z",
     "shell.execute_reply": "2025-01-01T16:37:09.518216Z"
    },
    "papermill": {
     "duration": 0.015782,
     "end_time": "2025-01-01T16:37:09.520312",
     "exception": false,
     "start_time": "2025-01-01T16:37:09.504530",
     "status": "completed"
    },
    "tags": []
   },
   "outputs": [],
   "source": [
    "#test_encoded_filtered = test_encoded.drop(columns=droped_col)"
   ]
  },
  {
   "cell_type": "code",
   "execution_count": 35,
   "id": "b66a814b",
   "metadata": {
    "execution": {
     "iopub.execute_input": "2025-01-01T16:37:09.546583Z",
     "iopub.status.busy": "2025-01-01T16:37:09.546307Z",
     "iopub.status.idle": "2025-01-01T16:37:09.550622Z",
     "shell.execute_reply": "2025-01-01T16:37:09.549888Z"
    },
    "papermill": {
     "duration": 0.017231,
     "end_time": "2025-01-01T16:37:09.551947",
     "exception": false,
     "start_time": "2025-01-01T16:37:09.534716",
     "status": "completed"
    },
    "tags": []
   },
   "outputs": [
    {
     "data": {
      "text/plain": [
       "(1459, 220)"
      ]
     },
     "execution_count": 35,
     "metadata": {},
     "output_type": "execute_result"
    }
   ],
   "source": [
    "test_encoded.shape"
   ]
  },
  {
   "cell_type": "code",
   "execution_count": 36,
   "id": "b89ab421",
   "metadata": {
    "execution": {
     "iopub.execute_input": "2025-01-01T16:37:09.574494Z",
     "iopub.status.busy": "2025-01-01T16:37:09.574267Z",
     "iopub.status.idle": "2025-01-01T16:37:09.744965Z",
     "shell.execute_reply": "2025-01-01T16:37:09.743871Z"
    },
    "papermill": {
     "duration": 0.183762,
     "end_time": "2025-01-01T16:37:09.746577",
     "exception": false,
     "start_time": "2025-01-01T16:37:09.562815",
     "status": "completed"
    },
    "tags": []
   },
   "outputs": [
    {
     "name": "stdout",
     "output_type": "stream",
     "text": [
      "LotFrontage              0.334901\n",
      "LotArea                  0.263843\n",
      "OverallQual              0.790982\n",
      "YearBuilt                0.522897\n",
      "YearRemodAdd             0.507101\n",
      "                           ...   \n",
      "SaleCondition_AdjLand   -0.050686\n",
      "SaleCondition_Alloca    -0.015525\n",
      "SaleCondition_Family    -0.046480\n",
      "SaleCondition_Normal    -0.153990\n",
      "SaleCondition_Partial    0.352060\n",
      "Name: SalePrice, Length: 220, dtype: float64\n"
     ]
    }
   ],
   "source": [
    "correlation_with_target = train_encoded.corr()['SalePrice']\n",
    "print(correlation_with_target)\n"
   ]
  },
  {
   "cell_type": "code",
   "execution_count": 37,
   "id": "2aeee6fd",
   "metadata": {
    "execution": {
     "iopub.execute_input": "2025-01-01T16:37:09.769578Z",
     "iopub.status.busy": "2025-01-01T16:37:09.769333Z",
     "iopub.status.idle": "2025-01-01T16:37:09.777479Z",
     "shell.execute_reply": "2025-01-01T16:37:09.776499Z"
    },
    "papermill": {
     "duration": 0.021247,
     "end_time": "2025-01-01T16:37:09.778914",
     "exception": false,
     "start_time": "2025-01-01T16:37:09.757667",
     "status": "completed"
    },
    "tags": []
   },
   "outputs": [],
   "source": [
    "# Assuming the target variable is named 'SalePrice'\n",
    "X_train = train_encoded.drop(columns=['SalePrice'])\n",
    "y_train = train_encoded['SalePrice']\n",
    "\n",
    "#X_test = test_encoded.reindex(columns=X_train.columns, fill_value=0)\n",
    "X_test = test_encoded.drop(columns=['SalePrice'], errors='ignore')  # Ensure no error if SalePrice isn't in test data\n",
    "\n"
   ]
  },
  {
   "cell_type": "code",
   "execution_count": 38,
   "id": "ffa78926",
   "metadata": {
    "execution": {
     "iopub.execute_input": "2025-01-01T16:37:09.803456Z",
     "iopub.status.busy": "2025-01-01T16:37:09.803199Z",
     "iopub.status.idle": "2025-01-01T16:37:09.845688Z",
     "shell.execute_reply": "2025-01-01T16:37:09.844903Z"
    },
    "papermill": {
     "duration": 0.056726,
     "end_time": "2025-01-01T16:37:09.847293",
     "exception": false,
     "start_time": "2025-01-01T16:37:09.790567",
     "status": "completed"
    },
    "tags": []
   },
   "outputs": [],
   "source": [
    "# Standardize the data\n",
    "scaler = StandardScaler()\n",
    "X_train_scaled = scaler.fit_transform(X_train)\n",
    "X_test_scaled = scaler.transform(X_test)"
   ]
  },
  {
   "cell_type": "markdown",
   "id": "51704b0f",
   "metadata": {
    "papermill": {
     "duration": 0.010919,
     "end_time": "2025-01-01T16:37:09.869395",
     "exception": false,
     "start_time": "2025-01-01T16:37:09.858476",
     "status": "completed"
    },
    "tags": []
   },
   "source": [
    "# Linear Regression Model"
   ]
  },
  {
   "cell_type": "code",
   "execution_count": 39,
   "id": "594d0711",
   "metadata": {
    "execution": {
     "iopub.execute_input": "2025-01-01T16:37:09.892383Z",
     "iopub.status.busy": "2025-01-01T16:37:09.892111Z",
     "iopub.status.idle": "2025-01-01T16:37:09.956285Z",
     "shell.execute_reply": "2025-01-01T16:37:09.954726Z"
    },
    "papermill": {
     "duration": 0.083479,
     "end_time": "2025-01-01T16:37:09.963855",
     "exception": false,
     "start_time": "2025-01-01T16:37:09.880376",
     "status": "completed"
    },
    "tags": []
   },
   "outputs": [
    {
     "name": "stdout",
     "output_type": "stream",
     "text": [
      "Training RMSE (Linear Regression): 21752.035482284344\n"
     ]
    }
   ],
   "source": [
    "# Fit a linear regression model\n",
    "model_lr = LinearRegression()\n",
    "model_lr.fit(X_train_scaled, y_train)\n",
    "\n",
    "# Predict and evaluate on training data\n",
    "y_train_pred = model_lr.predict(X_train_scaled)\n",
    "print(f\"Training RMSE (Linear Regression): {mean_squared_error(y_train, y_train_pred, squared=False)}\")"
   ]
  },
  {
   "cell_type": "markdown",
   "id": "b83255d6",
   "metadata": {
    "papermill": {
     "duration": 0.041788,
     "end_time": "2025-01-01T16:37:10.097275",
     "exception": false,
     "start_time": "2025-01-01T16:37:10.055487",
     "status": "completed"
    },
    "tags": []
   },
   "source": [
    "# Ridge Model"
   ]
  },
  {
   "cell_type": "code",
   "execution_count": 40,
   "id": "bc683618",
   "metadata": {
    "execution": {
     "iopub.execute_input": "2025-01-01T16:37:10.123495Z",
     "iopub.status.busy": "2025-01-01T16:37:10.123169Z",
     "iopub.status.idle": "2025-01-01T16:37:10.289044Z",
     "shell.execute_reply": "2025-01-01T16:37:10.286363Z"
    },
    "papermill": {
     "duration": 0.183484,
     "end_time": "2025-01-01T16:37:10.293398",
     "exception": false,
     "start_time": "2025-01-01T16:37:10.109914",
     "status": "completed"
    },
    "tags": []
   },
   "outputs": [
    {
     "name": "stdout",
     "output_type": "stream",
     "text": [
      "Training RMSE (Ridge): 21697.331345920495\n"
     ]
    }
   ],
   "source": [
    "from sklearn.linear_model import Ridge\n",
    "model_r = Ridge(alpha=0.01)  # Adjust alpha to control regularization strength\n",
    "\n",
    "model_r.fit(X_train_scaled, y_train)\n",
    "\n",
    "# Predict and evaluate on training data\n",
    "y_train_pred = model_r.predict(X_train_scaled)\n",
    "print(f\"Training RMSE (Ridge): {mean_squared_error(y_train, y_train_pred, squared=False)}\")\n"
   ]
  },
  {
   "cell_type": "markdown",
   "id": "7b3f7df7",
   "metadata": {
    "papermill": {
     "duration": 0.045766,
     "end_time": "2025-01-01T16:37:10.396362",
     "exception": false,
     "start_time": "2025-01-01T16:37:10.350596",
     "status": "completed"
    },
    "tags": []
   },
   "source": [
    "# Lasso Model"
   ]
  },
  {
   "cell_type": "code",
   "execution_count": 41,
   "id": "55eef683",
   "metadata": {
    "execution": {
     "iopub.execute_input": "2025-01-01T16:37:10.438714Z",
     "iopub.status.busy": "2025-01-01T16:37:10.438321Z",
     "iopub.status.idle": "2025-01-01T16:37:11.009205Z",
     "shell.execute_reply": "2025-01-01T16:37:11.008126Z"
    },
    "papermill": {
     "duration": 0.592376,
     "end_time": "2025-01-01T16:37:11.012617",
     "exception": false,
     "start_time": "2025-01-01T16:37:10.420241",
     "status": "completed"
    },
    "tags": []
   },
   "outputs": [
    {
     "name": "stdout",
     "output_type": "stream",
     "text": [
      "Training RMSE (Lasso): 21697.332063562102\n"
     ]
    }
   ],
   "source": [
    "model_l = Lasso(alpha=0.1, max_iter=5000)  # Adjust alpha to control regularization strength\n",
    "\n",
    "model_l.fit(X_train_scaled, y_train)\n",
    "\n",
    "# Predict and evaluate on training data\n",
    "y_train_pred = model_l.predict(X_train_scaled)\n",
    "print(f\"Training RMSE (Lasso): {mean_squared_error(y_train, y_train_pred, squared=False)}\")\n"
   ]
  },
  {
   "cell_type": "markdown",
   "id": "31bf9bc6",
   "metadata": {
    "execution": {
     "iopub.execute_input": "2025-01-01T16:06:58.889376Z",
     "iopub.status.busy": "2025-01-01T16:06:58.889071Z",
     "iopub.status.idle": "2025-01-01T16:07:38.039998Z",
     "shell.execute_reply": "2025-01-01T16:07:38.038289Z",
     "shell.execute_reply.started": "2025-01-01T16:06:58.889350Z"
    },
    "papermill": {
     "duration": 0.032391,
     "end_time": "2025-01-01T16:37:11.077824",
     "exception": false,
     "start_time": "2025-01-01T16:37:11.045433",
     "status": "completed"
    },
    "tags": []
   },
   "source": [
    "lasso = Lasso(alpha=0.01, max_iter=500000)  # Tune alpha using GridSearchCV\n",
    "lasso.fit(X_train_scaled, y_train)\n",
    "lasso_score = cross_val_score(lasso, X_train_scaled, y_train, cv=10, scoring='neg_mean_squared_error')\n",
    "print(\"Lasso RMSE:\", (-lasso_score.mean()) ** 0.5)\n"
   ]
  },
  {
   "cell_type": "markdown",
   "id": "31bba7bc",
   "metadata": {
    "papermill": {
     "duration": 0.028494,
     "end_time": "2025-01-01T16:37:11.140555",
     "exception": false,
     "start_time": "2025-01-01T16:37:11.112061",
     "status": "completed"
    },
    "tags": []
   },
   "source": [
    "# Elastic Net"
   ]
  },
  {
   "cell_type": "code",
   "execution_count": 42,
   "id": "63a15c5a",
   "metadata": {
    "execution": {
     "iopub.execute_input": "2025-01-01T16:37:11.164008Z",
     "iopub.status.busy": "2025-01-01T16:37:11.163711Z",
     "iopub.status.idle": "2025-01-01T16:37:12.150983Z",
     "shell.execute_reply": "2025-01-01T16:37:12.149120Z"
    },
    "papermill": {
     "duration": 1.001571,
     "end_time": "2025-01-01T16:37:12.153418",
     "exception": false,
     "start_time": "2025-01-01T16:37:11.151847",
     "status": "completed"
    },
    "tags": []
   },
   "outputs": [
    {
     "name": "stdout",
     "output_type": "stream",
     "text": [
      "Training RMSE (Elastic Net): 21742.678868208794\n"
     ]
    }
   ],
   "source": [
    "model_e = ElasticNet(alpha=0.01, l1_ratio=0.9, max_iter=5000)\n",
    "model_e.fit(X_train_scaled, y_train)\n",
    "\n",
    "# Predict and evaluate on training data\n",
    "y_train_pred = model_e.predict(X_train_scaled)\n",
    "print(f\"Training RMSE (Elastic Net): {mean_squared_error(y_train, y_train_pred, squared=False)}\")\n"
   ]
  },
  {
   "cell_type": "markdown",
   "id": "7479a3fd",
   "metadata": {
    "papermill": {
     "duration": 0.03669,
     "end_time": "2025-01-01T16:37:12.225331",
     "exception": false,
     "start_time": "2025-01-01T16:37:12.188641",
     "status": "completed"
    },
    "tags": []
   },
   "source": [
    "# Random Forest Regressor"
   ]
  },
  {
   "cell_type": "code",
   "execution_count": 43,
   "id": "7af69912",
   "metadata": {
    "execution": {
     "iopub.execute_input": "2025-01-01T16:37:12.287800Z",
     "iopub.status.busy": "2025-01-01T16:37:12.287438Z",
     "iopub.status.idle": "2025-01-01T16:37:37.851209Z",
     "shell.execute_reply": "2025-01-01T16:37:37.850219Z"
    },
    "papermill": {
     "duration": 25.589903,
     "end_time": "2025-01-01T16:37:37.852501",
     "exception": false,
     "start_time": "2025-01-01T16:37:12.262598",
     "status": "completed"
    },
    "tags": []
   },
   "outputs": [
    {
     "name": "stdout",
     "output_type": "stream",
     "text": [
      "Training RMSE (Random Forest Regressor): 10849.364969449794\n"
     ]
    }
   ],
   "source": [
    "model_rf = RandomForestRegressor(n_estimators=1000, random_state=42)\n",
    "model_rf.fit(X_train_scaled, y_train)\n",
    "\n",
    "# Predict and evaluate on training data\n",
    "y_train_pred = model_rf.predict(X_train_scaled)\n",
    "print(f\"Training RMSE (Random Forest Regressor): {mean_squared_error(y_train, y_train_pred, squared=False)}\")"
   ]
  },
  {
   "cell_type": "code",
   "execution_count": 44,
   "id": "9b318846",
   "metadata": {
    "execution": {
     "iopub.execute_input": "2025-01-01T16:37:37.876302Z",
     "iopub.status.busy": "2025-01-01T16:37:37.876049Z",
     "iopub.status.idle": "2025-01-01T16:37:50.531448Z",
     "shell.execute_reply": "2025-01-01T16:37:50.530465Z"
    },
    "papermill": {
     "duration": 12.668939,
     "end_time": "2025-01-01T16:37:50.532901",
     "exception": false,
     "start_time": "2025-01-01T16:37:37.863962",
     "status": "completed"
    },
    "tags": []
   },
   "outputs": [
    {
     "name": "stdout",
     "output_type": "stream",
     "text": [
      "Random Forest RMSE: 30053.3016651596\n"
     ]
    }
   ],
   "source": [
    "from sklearn.ensemble import RandomForestRegressor\n",
    "\n",
    "rf = RandomForestRegressor(n_estimators=100, random_state=42)\n",
    "rf.fit(X_train, y_train)\n",
    "rf_predictions = rf.predict(X_test)\n",
    "\n",
    "# Evaluate using cross-validation\n",
    "from sklearn.model_selection import cross_val_score\n",
    "rf_score = cross_val_score(rf, X_train, y_train, cv=5, scoring='neg_mean_squared_error')\n",
    "print(\"Random Forest RMSE:\", (-rf_score.mean()) ** 0.5)"
   ]
  },
  {
   "cell_type": "markdown",
   "id": "b7ecde5b",
   "metadata": {
    "papermill": {
     "duration": 0.011455,
     "end_time": "2025-01-01T16:37:50.556687",
     "exception": false,
     "start_time": "2025-01-01T16:37:50.545232",
     "status": "completed"
    },
    "tags": []
   },
   "source": [
    "# XGB Regressor"
   ]
  },
  {
   "cell_type": "code",
   "execution_count": 45,
   "id": "0e1b0282",
   "metadata": {
    "execution": {
     "iopub.execute_input": "2025-01-01T16:37:50.580574Z",
     "iopub.status.busy": "2025-01-01T16:37:50.580231Z",
     "iopub.status.idle": "2025-01-01T16:38:01.924211Z",
     "shell.execute_reply": "2025-01-01T16:38:01.922213Z"
    },
    "papermill": {
     "duration": 11.357908,
     "end_time": "2025-01-01T16:38:01.926024",
     "exception": false,
     "start_time": "2025-01-01T16:37:50.568116",
     "status": "completed"
    },
    "tags": []
   },
   "outputs": [
    {
     "name": "stdout",
     "output_type": "stream",
     "text": [
      "Training RMSE (XGB Regressor): 138.8038110485944\n"
     ]
    }
   ],
   "source": [
    "from xgboost import XGBRegressor\n",
    "\n",
    "model_xgb = XGBRegressor(n_estimators=6000, learning_rate=0.05, max_depth=5, random_state=42)\n",
    "model_xgb.fit(X_train_scaled, y_train)\n",
    "\n",
    "# Predict and evaluate on training data\n",
    "y_train_pred = model_xgb.predict(X_train_scaled)\n",
    "print(f\"Training RMSE (XGB Regressor): {mean_squared_error(y_train, y_train_pred, squared=False)}\")"
   ]
  },
  {
   "cell_type": "markdown",
   "id": "d9a13eab",
   "metadata": {
    "papermill": {
     "duration": 0.012946,
     "end_time": "2025-01-01T16:38:01.957110",
     "exception": false,
     "start_time": "2025-01-01T16:38:01.944164",
     "status": "completed"
    },
    "tags": []
   },
   "source": [
    "# LGBM Regressor"
   ]
  },
  {
   "cell_type": "code",
   "execution_count": 46,
   "id": "dc6ba7cc",
   "metadata": {
    "execution": {
     "iopub.execute_input": "2025-01-01T16:38:01.984761Z",
     "iopub.status.busy": "2025-01-01T16:38:01.984425Z",
     "iopub.status.idle": "2025-01-01T16:38:13.257333Z",
     "shell.execute_reply": "2025-01-01T16:38:13.256329Z"
    },
    "papermill": {
     "duration": 11.28876,
     "end_time": "2025-01-01T16:38:13.258987",
     "exception": false,
     "start_time": "2025-01-01T16:38:01.970227",
     "status": "completed"
    },
    "tags": []
   },
   "outputs": [
    {
     "name": "stdout",
     "output_type": "stream",
     "text": [
      "[LightGBM] [Info] Auto-choosing row-wise multi-threading, the overhead of testing was 0.003070 seconds.\n",
      "You can set `force_row_wise=true` to remove the overhead.\n",
      "And if memory is not enough, you can set `force_col_wise=true`.\n",
      "[LightGBM] [Info] Total Bins 3193\n",
      "[LightGBM] [Info] Number of data points in the train set: 1460, number of used features: 143\n",
      "[LightGBM] [Info] Start training from score 180921.195890\n",
      "Training RMSE (LGBM Regressor): 139.83481970320565\n"
     ]
    }
   ],
   "source": [
    "from lightgbm import LGBMRegressor\n",
    "\n",
    "model_lgb = LGBMRegressor(n_estimators=5000, learning_rate=0.05, random_state=42)\n",
    "model_lgb.fit(X_train_scaled, y_train)\n",
    "\n",
    "# Predict and evaluate on training data\n",
    "y_train_pred = model_lgb.predict(X_train_scaled)\n",
    "print(f\"Training RMSE (LGBM Regressor): {mean_squared_error(y_train, y_train_pred, squared=False)}\")"
   ]
  },
  {
   "cell_type": "markdown",
   "id": "c25c0dc5",
   "metadata": {
    "papermill": {
     "duration": 0.010877,
     "end_time": "2025-01-01T16:38:13.284301",
     "exception": false,
     "start_time": "2025-01-01T16:38:13.273424",
     "status": "completed"
    },
    "tags": []
   },
   "source": [
    "# SVM"
   ]
  },
  {
   "cell_type": "code",
   "execution_count": 47,
   "id": "02e7ee41",
   "metadata": {
    "execution": {
     "iopub.execute_input": "2025-01-01T16:38:13.307584Z",
     "iopub.status.busy": "2025-01-01T16:38:13.307014Z",
     "iopub.status.idle": "2025-01-01T16:38:14.139076Z",
     "shell.execute_reply": "2025-01-01T16:38:14.138027Z"
    },
    "papermill": {
     "duration": 0.845101,
     "end_time": "2025-01-01T16:38:14.140448",
     "exception": false,
     "start_time": "2025-01-01T16:38:13.295347",
     "status": "completed"
    },
    "tags": []
   },
   "outputs": [
    {
     "name": "stdout",
     "output_type": "stream",
     "text": [
      "Training RMSE (SVM): 81378.25403501045\n"
     ]
    }
   ],
   "source": [
    "from sklearn.svm import SVR\n",
    "\n",
    "model_svm = svm = SVR(kernel='rbf', C=1, epsilon=0.1)\n",
    "model_svm.fit(X_train_scaled, y_train)\n",
    "\n",
    "# Predict and evaluate on training data\n",
    "y_train_pred = model_svm.predict(X_train_scaled)\n",
    "print(f\"Training RMSE (SVM): {mean_squared_error(y_train, y_train_pred, squared=False)}\")"
   ]
  },
  {
   "cell_type": "code",
   "execution_count": 48,
   "id": "97a97797",
   "metadata": {
    "execution": {
     "iopub.execute_input": "2025-01-01T16:38:14.164974Z",
     "iopub.status.busy": "2025-01-01T16:38:14.164687Z",
     "iopub.status.idle": "2025-01-01T16:38:14.432598Z",
     "shell.execute_reply": "2025-01-01T16:38:14.431568Z"
    },
    "papermill": {
     "duration": 0.281413,
     "end_time": "2025-01-01T16:38:14.434190",
     "exception": false,
     "start_time": "2025-01-01T16:38:14.152777",
     "status": "completed"
    },
    "tags": []
   },
   "outputs": [],
   "source": [
    "test_predictions = model_rf.predict(X_test_scaled)"
   ]
  },
  {
   "cell_type": "code",
   "execution_count": 49,
   "id": "1b858feb",
   "metadata": {
    "execution": {
     "iopub.execute_input": "2025-01-01T16:38:14.458603Z",
     "iopub.status.busy": "2025-01-01T16:38:14.458335Z",
     "iopub.status.idle": "2025-01-01T16:38:14.466760Z",
     "shell.execute_reply": "2025-01-01T16:38:14.465956Z"
    },
    "papermill": {
     "duration": 0.021872,
     "end_time": "2025-01-01T16:38:14.468087",
     "exception": false,
     "start_time": "2025-01-01T16:38:14.446215",
     "status": "completed"
    },
    "tags": []
   },
   "outputs": [
    {
     "name": "stdout",
     "output_type": "stream",
     "text": [
      "Submission file created: 'submission1.csv'\n"
     ]
    }
   ],
   "source": [
    "# Create a submission DataFrame\n",
    "submission_rf= pd.DataFrame({\n",
    "    'Id': test_ids,\n",
    "    'SalePrice': test_predictions\n",
    "})\n",
    "\n",
    "# Save to CSV\n",
    "submission_rf.to_csv('submission_rf.csv', index=False)\n",
    "\n",
    "print(\"Submission file created: 'submission1.csv'\")"
   ]
  }
 ],
 "metadata": {
  "kaggle": {
   "accelerator": "gpu",
   "dataSources": [
    {
     "databundleVersionId": 111096,
     "sourceId": 10211,
     "sourceType": "competition"
    }
   ],
   "dockerImageVersionId": 30822,
   "isGpuEnabled": true,
   "isInternetEnabled": true,
   "language": "python",
   "sourceType": "notebook"
  },
  "kernelspec": {
   "display_name": "Python 3",
   "language": "python",
   "name": "python3"
  },
  "language_info": {
   "codemirror_mode": {
    "name": "ipython",
    "version": 3
   },
   "file_extension": ".py",
   "mimetype": "text/x-python",
   "name": "python",
   "nbconvert_exporter": "python",
   "pygments_lexer": "ipython3",
   "version": "3.10.12"
  },
  "papermill": {
   "default_parameters": {},
   "duration": 72.505608,
   "end_time": "2025-01-01T16:38:15.498001",
   "environment_variables": {},
   "exception": null,
   "input_path": "__notebook__.ipynb",
   "output_path": "__notebook__.ipynb",
   "parameters": {},
   "start_time": "2025-01-01T16:37:02.992393",
   "version": "2.6.0"
  }
 },
 "nbformat": 4,
 "nbformat_minor": 5
}
